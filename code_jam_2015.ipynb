{
 "cells": [
  {
   "cell_type": "markdown",
   "metadata": {
    "toc": "true"
   },
   "source": [
    "# Table of Contents\n",
    " <p><div class=\"lev1 toc-item\"><a href=\"#Round-0\" data-toc-modified-id=\"Round-0-1\"><span class=\"toc-item-num\">1&nbsp;&nbsp;</span>Round 0</a></div><div class=\"lev2 toc-item\"><a href=\"#Dijkstra\" data-toc-modified-id=\"Dijkstra-11\"><span class=\"toc-item-num\">1.1&nbsp;&nbsp;</span>Dijkstra</a></div><div class=\"lev3 toc-item\"><a href=\"#Problem-Description\" data-toc-modified-id=\"Problem-Description-111\"><span class=\"toc-item-num\">1.1.1&nbsp;&nbsp;</span>Problem Description</a></div><div class=\"lev3 toc-item\"><a href=\"#Solution\" data-toc-modified-id=\"Solution-112\"><span class=\"toc-item-num\">1.1.2&nbsp;&nbsp;</span>Solution</a></div><div class=\"lev2 toc-item\"><a href=\"#Infinite-House-of-Pancakes\" data-toc-modified-id=\"Infinite-House-of-Pancakes-12\"><span class=\"toc-item-num\">1.2&nbsp;&nbsp;</span>Infinite House of Pancakes</a></div><div class=\"lev3 toc-item\"><a href=\"#Problem-Description\" data-toc-modified-id=\"Problem-Description-121\"><span class=\"toc-item-num\">1.2.1&nbsp;&nbsp;</span>Problem Description</a></div><div class=\"lev3 toc-item\"><a href=\"#Solution\" data-toc-modified-id=\"Solution-122\"><span class=\"toc-item-num\">1.2.2&nbsp;&nbsp;</span>Solution</a></div><div class=\"lev2 toc-item\"><a href=\"#Standing-Ovation\" data-toc-modified-id=\"Standing-Ovation-13\"><span class=\"toc-item-num\">1.3&nbsp;&nbsp;</span>Standing Ovation</a></div><div class=\"lev3 toc-item\"><a href=\"#Problem-Description\" data-toc-modified-id=\"Problem-Description-131\"><span class=\"toc-item-num\">1.3.1&nbsp;&nbsp;</span>Problem Description</a></div><div class=\"lev3 toc-item\"><a href=\"#Solution\" data-toc-modified-id=\"Solution-132\"><span class=\"toc-item-num\">1.3.2&nbsp;&nbsp;</span>Solution</a></div>"
   ]
  },
  {
   "cell_type": "code",
   "execution_count": 1,
   "metadata": {
    "collapsed": true,
    "run_control": {
     "frozen": false,
     "read_only": false
    }
   },
   "outputs": [],
   "source": [
    "import pandas as pd\n",
    "import numpy as np"
   ]
  },
  {
   "cell_type": "markdown",
   "metadata": {
    "run_control": {
     "frozen": false,
     "read_only": false
    }
   },
   "source": [
    "# Round 0"
   ]
  },
  {
   "cell_type": "markdown",
   "metadata": {
    "heading_collapsed": true,
    "run_control": {
     "frozen": false,
     "read_only": false
    }
   },
   "source": [
    "## Dijkstra"
   ]
  },
  {
   "cell_type": "markdown",
   "metadata": {
    "hidden": true,
    "run_control": {
     "frozen": false,
     "read_only": false
    }
   },
   "source": [
    "### Problem Description"
   ]
  },
  {
   "cell_type": "markdown",
   "metadata": {
    "hidden": true,
    "run_control": {
     "frozen": false,
     "read_only": false
    }
   },
   "source": [
    "### Solution"
   ]
  },
  {
   "cell_type": "code",
   "execution_count": null,
   "metadata": {
    "collapsed": true,
    "hidden": true,
    "run_control": {
     "frozen": false,
     "read_only": false
    }
   },
   "outputs": [],
   "source": [
    "#ToDo - does dict need to have pos as part of key?? I think no...\n",
    "pastSolves = {}\n",
    "\n",
    "\n",
    "def equiv(in_string, positive=True):\n",
    "    \"\"\"Use Quaternions to determine if this string (of i's, j's and k's)\n",
    "    is equivalent to the char (i, j, or k) which you are seeking)\"\"\"\n",
    "    if in_string in pastSolves.keys():\n",
    "        return pastSolves[in_string]\n",
    "\n",
    "    if len(in_string) > 2:\n",
    "        smaller_piece, positive = equiv(in_string[1:], positive)\n",
    "        return equiv(in_string[0] + smaller_piece, positive)\n",
    "    elif len(in_string) == 2:\n",
    "        if in_string == 'ii':\n",
    "            return '', not positive  # negative (it's just -1)\n",
    "        elif in_string == 'ij':\n",
    "            return 'k', positive  # = positive\n",
    "        elif in_string == 'ik':\n",
    "            return 'j', not positive  # = negative\n",
    "        elif in_string == 'ji':\n",
    "            return 'k', not positive\n",
    "        elif in_string == 'jj':\n",
    "            return '', not positive\n",
    "        elif in_string == 'jk':\n",
    "            return 'i', positive\n",
    "        elif in_string == 'ki':\n",
    "            return 'j', positive\n",
    "        elif in_string == 'kj':\n",
    "            return 'i', not positive\n",
    "        elif in_string == 'kk':\n",
    "            return '', not positive\n",
    "    elif len(in_string) == 1:\n",
    "        return in_string, positive\n",
    "    else:  # in_string == ''\n",
    "        return '', positive\n",
    "\n",
    "inFile = open(\"test_in.txt\")\n",
    "outFile = open(\"small_out.txt\", 'w')\n",
    "\n",
    "numCases = int(inFile.readline())\n",
    "\n",
    "\n",
    "def big_equiv(big_string, positive=True):\n",
    "    put_together = big_string\n",
    "    while len(put_together) > 100:\n",
    "        splits = [(put_together[j*100:j*100+99], True) for j in range(len(iPiece)/100 + 1)]  # +1 because / rounds down\n",
    "        for ind in range(len(splits)):\n",
    "            current_piece = splits[ind]\n",
    "            if current_piece[0] in pastSolves.keys():\n",
    "                splits[ind] = pastSolves[current_piece[0]]\n",
    "            else:\n",
    "                splits[ind] = equiv(current_piece)\n",
    "                pastSolves[current_piece] = splits[ind]\n",
    "        put_together = ''.join([split[0] for split in splits])\n",
    "        if [split[1] for split in splits].count(False) % 2 == 1:\n",
    "            positive = False\n",
    "        else:\n",
    "            positive = True\n",
    "    return equiv(put_together, positive)\n",
    "\n",
    "\n",
    "for case in range(1, numCases+1):\n",
    "    length, repeats = [int(i) for i in inFile.readline().split(\" \")]\n",
    "    ijkString = inFile.readline().strip('\\n')*repeats\n",
    "\n",
    "    # Go through until you can make an i; then go from there till a k\n",
    "    # then a j; if it doesn't work, for j, keep going with k; if that\n",
    "    # doesn't work, keep going with i (until you hit a new i, then k again)\n",
    "    # If the i-search reaches the end, it's NO\n",
    "    ans = 'NO'\n",
    "    breakAll = False\n",
    "    for iStop in range(length*repeats):\n",
    "        if iStop % 50 == 0:\n",
    "            print iStop\n",
    "        if breakAll:\n",
    "            break\n",
    "        iPiece = ijkString[:iStop]\n",
    "        if iPiece in pastSolves.keys():\n",
    "            equivStr, pos = pastSolves[iPiece]\n",
    "        else:\n",
    "            if len(iPiece) < 100:\n",
    "                equivStr, pos = equiv(iPiece, True)\n",
    "                pastSolves[iPiece] = equivStr, pos\n",
    "            else:\n",
    "                equivStr, pos = big_equiv(iPiece, True)\n",
    "\n",
    "        if equivStr == 'i' and pos:\n",
    "            for jStop in range(iStop, length*repeats):\n",
    "                if breakAll:\n",
    "                    break\n",
    "                jPiece = ijkString[iStop:jStop]\n",
    "                if jPiece in pastSolves.keys():\n",
    "                    jEquivStr, jPos = pastSolves[jPiece]\n",
    "                else:\n",
    "                    if len(jPiece) < 100:\n",
    "                        jEquivStr, jPos = equiv(jPiece, True)\n",
    "                        pastSolves[jPiece] = jEquivStr, jPos\n",
    "                    else:\n",
    "                        jEquivStr, jPos = big_equiv(jPiece, True)\n",
    "                if jEquivStr == 'j' and jPos:\n",
    "                    for kStop in range(jStop, length*repeats):\n",
    "                        kPiece = ijkString[jStop:kStop]\n",
    "                        if kPiece in pastSolves.keys():\n",
    "                            kEquivStr, kPos = pastSolves[kPiece]\n",
    "                        else:\n",
    "                            if len(kPiece) < 100:\n",
    "                                kEquivStr, kPos = equiv(kPiece, True)\n",
    "                                pastSolves[kPiece] = kEquivStr, kPos\n",
    "                            else:\n",
    "                                kEquivStr, kPos = big_equiv(kPiece, True)\n",
    "                        if kEquivStr == 'k' and kPos:\n",
    "                            ans = \"YES\"\n",
    "                            breakAll = True\n",
    "                            break\n",
    "\n",
    "    result = \"Case #%s: %s\\n\" % (case, ans)\n",
    "    outFile.write(result)\n",
    "\n",
    "inFile.close()\n",
    "outFile.close()"
   ]
  },
  {
   "cell_type": "markdown",
   "metadata": {
    "heading_collapsed": true,
    "run_control": {
     "frozen": false,
     "read_only": false
    }
   },
   "source": [
    "## Infinite House of Pancakes"
   ]
  },
  {
   "cell_type": "markdown",
   "metadata": {
    "hidden": true,
    "run_control": {
     "frozen": false,
     "read_only": false
    }
   },
   "source": [
    "### Problem Description\n",
    "At the Infinite House of Pancakes, there are only finitely many pancakes, but there are infinitely many diners who\n",
    "would be willing to eat them! When the restaurant opens for breakfast, among the infinitely many diners, exactly D have\n",
    "non-empty plates; the ith of these has Pi pancakes on his or her plate. Everyone else has an empty plate.\n",
    "\n",
    "Normally, every minute, every diner with a non-empty plate will eat one pancake from his or her plate. However, some\n",
    "minutes may be special. In a special minute, the head server asks for the diners' attention, chooses a diner with a\n",
    "non-empty plate, and carefully lifts some number of pancakes off of that diner's plate and moves those pancakes onto\n",
    "one other diner's (empty or non-empty) plate. No diners eat during a special minute, because it would be rude.\n",
    "\n",
    "You are the head server on duty this morning, and it is your job to decide which minutes, if any, will be special, and\n",
    "which pancakes will move where. That is, every minute, you can decide to either do nothing and let the diners eat, or\n",
    "declare a special minute and interrupt the diners to make a single movement of one or more pancakes, as described above.\n",
    "\n",
    "Breakfast ends when there are no more pancakes left to eat. How quickly can you make that happen?\n",
    "\n",
    "Input\n",
    "\n",
    "The first line of the input gives the number of test cases, T. T test cases follow. Each consists of one line with D,\n",
    "the number of diners with non-empty plates, followed by another line with D space-separated integers representing the\n",
    "numbers of pancakes on those diners' plates.\n",
    "\n",
    "Output\n",
    "\n",
    "For each test case, output one line containing \"Case #x: y\", where x is the test case number (starting from 1) and y\n",
    "is the smallest number of minutes needed to finish the breakfast.\n"
   ]
  },
  {
   "cell_type": "markdown",
   "metadata": {
    "hidden": true,
    "run_control": {
     "frozen": false,
     "read_only": false
    }
   },
   "source": [
    "### Solution"
   ]
  },
  {
   "cell_type": "code",
   "execution_count": null,
   "metadata": {
    "collapsed": true,
    "hidden": true,
    "run_control": {
     "frozen": false,
     "read_only": false
    }
   },
   "outputs": [],
   "source": [
    "inFile = open(\"small.in\")\n",
    "outFile = open(\"small_out.txt\", 'w')\n",
    "\n",
    "numCases = int(inFile.readline())\n",
    "\n",
    "for case in range(numCases):\n",
    "    numDinersWithPancakes = int(inFile.readline())\n",
    "    pancakeDiners = [int(i) for i in inFile.readline().split(\" \")]\n",
    "\n",
    "    minutesToFinish = [max(pancakeDiners)]\n",
    "    for moves in range(1, max(pancakeDiners)):\n",
    "        \"\"\" Strategy: take half of the pancakes of whoever has the most\n",
    "        Possibly optimal?\n",
    "        Keep finding the best (either halve or just let them eat) until\n",
    "        you've tried as many moves as the person with the most starting\n",
    "        pancakes had; can't be more than this or your moves would have cost\n",
    "        you longer than just letting everybody eat from the start \"\"\"\n",
    "\n",
    "        takeFrom = pancakeDiners.index(max(pancakeDiners))\n",
    "        taken = pancakeDiners[takeFrom]/2\n",
    "        pancakeDiners[takeFrom] -= taken\n",
    "        pancakeDiners.append(taken)  # put them on the plate of a new diner\n",
    "        newMinutesToFinish = max(pancakeDiners) + moves\n",
    "\n",
    "        minutesToFinish.append(newMinutesToFinish)\n",
    "\n",
    "    result = \"Case #%s: %s\\n\" % (case+1, min(minutesToFinish))\n",
    "    outFile.write(result)\n",
    "\n",
    "inFile.close()\n",
    "outFile.close()"
   ]
  },
  {
   "cell_type": "markdown",
   "metadata": {
    "heading_collapsed": true,
    "run_control": {
     "frozen": false,
     "read_only": false
    }
   },
   "source": [
    "## Standing Ovation"
   ]
  },
  {
   "cell_type": "markdown",
   "metadata": {
    "hidden": true,
    "run_control": {
     "frozen": false,
     "read_only": false
    }
   },
   "source": [
    "### Problem Description"
   ]
  },
  {
   "cell_type": "markdown",
   "metadata": {
    "hidden": true,
    "run_control": {
     "frozen": false,
     "read_only": false
    }
   },
   "source": [
    "### Solution"
   ]
  },
  {
   "cell_type": "code",
   "execution_count": null,
   "metadata": {
    "collapsed": true,
    "hidden": true,
    "run_control": {
     "frozen": false,
     "read_only": false
    }
   },
   "outputs": [],
   "source": [
    "__author__ = 'neigh_000'\n",
    "\n",
    "inFile = open(\"large.in\")\n",
    "outFile = open(\"large_out.txt\", \"w\")\n",
    "\n",
    "numCases = int(inFile.readline())\n",
    "\n",
    "for case in range(numCases):\n",
    "    maxShyness, shynessLevels = inFile.readline().split(\" \")\n",
    "    maxShyness = int(maxShyness)\n",
    "\n",
    "    # necessary? maybe helpful\n",
    "    shyDict = {}\n",
    "    for shynessLevel in range(maxShyness+1):\n",
    "        shyDict[shynessLevel] = int(shynessLevels[shynessLevel])\n",
    "\n",
    "    numFriendsNeeded = 0\n",
    "    standing = 0\n",
    "    for i in range(maxShyness+1):\n",
    "        standing += shyDict[i]\n",
    "        if standing < i+1:\n",
    "            # not enough people standing for next group to get up\n",
    "            friendsAdded = i + 1 - standing\n",
    "            numFriendsNeeded += friendsAdded\n",
    "            standing += friendsAdded\n",
    "\n",
    "    result = \"Case #%s: %s\\n\" % (case+1, numFriendsNeeded)\n",
    "    outFile.write(result)\n",
    "\n",
    "inFile.close()\n",
    "outFile.close()"
   ]
  }
 ],
 "metadata": {
  "kernelspec": {
   "display_name": "Python 3",
   "language": "python",
   "name": "python3"
  },
  "language_info": {
   "codemirror_mode": {
    "name": "ipython",
    "version": 3
   },
   "file_extension": ".py",
   "mimetype": "text/x-python",
   "name": "python",
   "nbconvert_exporter": "python",
   "pygments_lexer": "ipython3",
   "version": "3.6.1"
  },
  "latex_envs": {
   "LaTeX_envs_menu_present": true,
   "autocomplete": true,
   "bibliofile": "biblio.bib",
   "cite_by": "apalike",
   "current_citInitial": 1,
   "eqLabelWithNumbers": true,
   "eqNumInitial": 1,
   "hotkeys": {
    "equation": "Ctrl-E",
    "itemize": "Ctrl-I"
   },
   "labels_anchors": false,
   "latex_user_defs": false,
   "report_style_numbering": false,
   "user_envs_cfg": false
  },
  "toc": {
   "colors": {
    "hover_highlight": "#DAA520",
    "running_highlight": "#FF0000",
    "selected_highlight": "#FFD700"
   },
   "moveMenuLeft": true,
   "nav_menu": {
    "height": "79px",
    "width": "254px"
   },
   "navigate_menu": true,
   "number_sections": true,
   "sideBar": true,
   "threshold": 4,
   "toc_cell": true,
   "toc_section_display": "block",
   "toc_window_display": false,
   "widenNotebook": false
  }
 },
 "nbformat": 4,
 "nbformat_minor": 2
}
