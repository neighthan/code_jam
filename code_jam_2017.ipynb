{
 "cells": [
  {
   "cell_type": "markdown",
   "metadata": {
    "run_control": {
     "frozen": false,
     "read_only": false
    },
    "toc": "true"
   },
   "source": [
    "# Table of Contents\n",
    " <p><div class=\"lev1 toc-item\"><a href=\"#Round-1\" data-toc-modified-id=\"Round-1-1\"><span class=\"toc-item-num\">1&nbsp;&nbsp;</span>Round 1</a></div><div class=\"lev2 toc-item\"><a href=\"#Oversized-Pancake-Flipper\" data-toc-modified-id=\"Oversized-Pancake-Flipper-11\"><span class=\"toc-item-num\">1.1&nbsp;&nbsp;</span>Oversized Pancake Flipper</a></div><div class=\"lev3 toc-item\"><a href=\"#Problem-Description\" data-toc-modified-id=\"Problem-Description-111\"><span class=\"toc-item-num\">1.1.1&nbsp;&nbsp;</span>Problem Description</a></div><div class=\"lev3 toc-item\"><a href=\"#Solution\" data-toc-modified-id=\"Solution-112\"><span class=\"toc-item-num\">1.1.2&nbsp;&nbsp;</span>Solution</a></div><div class=\"lev2 toc-item\"><a href=\"#Tidy-Numbers\" data-toc-modified-id=\"Tidy-Numbers-12\"><span class=\"toc-item-num\">1.2&nbsp;&nbsp;</span>Tidy Numbers</a></div><div class=\"lev3 toc-item\"><a href=\"#Problem-Description\" data-toc-modified-id=\"Problem-Description-121\"><span class=\"toc-item-num\">1.2.1&nbsp;&nbsp;</span>Problem Description</a></div><div class=\"lev3 toc-item\"><a href=\"#Solution\" data-toc-modified-id=\"Solution-122\"><span class=\"toc-item-num\">1.2.2&nbsp;&nbsp;</span>Solution</a></div><div class=\"lev2 toc-item\"><a href=\"#Bathroom-Stalls\" data-toc-modified-id=\"Bathroom-Stalls-13\"><span class=\"toc-item-num\">1.3&nbsp;&nbsp;</span>Bathroom Stalls</a></div><div class=\"lev3 toc-item\"><a href=\"#Problem-Description\" data-toc-modified-id=\"Problem-Description-131\"><span class=\"toc-item-num\">1.3.1&nbsp;&nbsp;</span>Problem Description</a></div><div class=\"lev3 toc-item\"><a href=\"#Solution\" data-toc-modified-id=\"Solution-132\"><span class=\"toc-item-num\">1.3.2&nbsp;&nbsp;</span>Solution</a></div><div class=\"lev2 toc-item\"><a href=\"#Fashion-Show\" data-toc-modified-id=\"Fashion-Show-14\"><span class=\"toc-item-num\">1.4&nbsp;&nbsp;</span>Fashion Show</a></div><div class=\"lev3 toc-item\"><a href=\"#Problem-Statement\" data-toc-modified-id=\"Problem-Statement-141\"><span class=\"toc-item-num\">1.4.1&nbsp;&nbsp;</span>Problem Statement</a></div><div class=\"lev1 toc-item\"><a href=\"#Round-2\" data-toc-modified-id=\"Round-2-2\"><span class=\"toc-item-num\">2&nbsp;&nbsp;</span>Round 2</a></div><div class=\"lev2 toc-item\"><a href=\"#Alphabet-Cake\" data-toc-modified-id=\"Alphabet-Cake-21\"><span class=\"toc-item-num\">2.1&nbsp;&nbsp;</span>Alphabet Cake</a></div><div class=\"lev3 toc-item\"><a href=\"#Problem-Description\" data-toc-modified-id=\"Problem-Description-211\"><span class=\"toc-item-num\">2.1.1&nbsp;&nbsp;</span>Problem Description</a></div><div class=\"lev3 toc-item\"><a href=\"#Solution\" data-toc-modified-id=\"Solution-212\"><span class=\"toc-item-num\">2.1.2&nbsp;&nbsp;</span>Solution</a></div><div class=\"lev2 toc-item\"><a href=\"#Ratatouille\" data-toc-modified-id=\"Ratatouille-22\"><span class=\"toc-item-num\">2.2&nbsp;&nbsp;</span>Ratatouille</a></div><div class=\"lev3 toc-item\"><a href=\"#Problem-Description\" data-toc-modified-id=\"Problem-Description-221\"><span class=\"toc-item-num\">2.2.1&nbsp;&nbsp;</span>Problem Description</a></div><div class=\"lev3 toc-item\"><a href=\"#Solution\" data-toc-modified-id=\"Solution-222\"><span class=\"toc-item-num\">2.2.2&nbsp;&nbsp;</span>Solution</a></div><div class=\"lev2 toc-item\"><a href=\"#Play-The-Dragon\" data-toc-modified-id=\"Play-The-Dragon-23\"><span class=\"toc-item-num\">2.3&nbsp;&nbsp;</span>Play The Dragon</a></div><div class=\"lev3 toc-item\"><a href=\"#Problem-Description\" data-toc-modified-id=\"Problem-Description-231\"><span class=\"toc-item-num\">2.3.1&nbsp;&nbsp;</span>Problem Description</a></div><div class=\"lev3 toc-item\"><a href=\"#Solution\" data-toc-modified-id=\"Solution-232\"><span class=\"toc-item-num\">2.3.2&nbsp;&nbsp;</span>Solution</a></div>"
   ]
  },
  {
   "cell_type": "code",
   "execution_count": 1,
   "metadata": {
    "collapsed": true,
    "init_cell": true,
    "run_control": {
     "frozen": false,
     "read_only": false
    }
   },
   "outputs": [],
   "source": [
    "import numpy as np\n",
    "import pandas as pd\n",
    "from utils import write_example_file, read_input, write_output"
   ]
  },
  {
   "cell_type": "markdown",
   "metadata": {
    "run_control": {
     "frozen": false,
     "read_only": false
    }
   },
   "source": [
    "# Round 1"
   ]
  },
  {
   "cell_type": "markdown",
   "metadata": {
    "heading_collapsed": true,
    "run_control": {
     "frozen": false,
     "read_only": false
    }
   },
   "source": [
    "## Oversized Pancake Flipper"
   ]
  },
  {
   "cell_type": "markdown",
   "metadata": {
    "hidden": true,
    "run_control": {
     "frozen": false,
     "read_only": false
    }
   },
   "source": [
    "### Problem Description\n",
    "\n",
    "Last year, the Infinite House of Pancakes introduced a new kind of pancake. It has a happy face made of chocolate chips on one side (the \"happy side\"), and nothing on the other side (the \"blank side\").\n",
    "\n",
    "You are the head cook on duty. The pancakes are cooked in a single row over a hot surface. As part of its infinite efforts to maximize efficiency, the House has recently given you an oversized pancake flipper that flips exactly K consecutive pancakes. That is, in that range of K pancakes, it changes every happy-side pancake to a blank-side pancake, and vice versa; it does not change the left-to-right order of those pancakes.\n",
    "\n",
    "You cannot flip fewer than K pancakes at a time with the flipper, even at the ends of the row (since there are raised borders on both sides of the cooking surface). For example, you can flip the first K pancakes, but not the first K - 1 pancakes.\n",
    "\n",
    "Your apprentice cook, who is still learning the job, just used the old-fashioned single-pancake flipper to flip some individual pancakes and then ran to the restroom with it, right before the time when customers come to visit the kitchen. You only have the oversized pancake flipper left, and you need to use it quickly to leave all the cooking pancakes happy side up, so that the customers leave feeling happy with their visit.\n",
    "\n",
    "Given the current state of the pancakes, calculate the minimum number of uses of the oversized pancake flipper needed to leave all pancakes happy side up, or state that there is no way to do it.\n",
    "\n",
    "Input\n",
    "\n",
    "The first line of the input gives the number of test cases, T. T test cases follow. Each consists of one line with a string S and an integer K. S represents the row of pancakes: each of its characters is either + (which represents a pancake that is initially happy side up) or - (which represents a pancake that is initially blank side up).\n",
    "\n",
    "Output\n",
    "\n",
    "For each test case, output one line containing Case #x: y, where x is the test case number (starting from 1) and y is either IMPOSSIBLE if there is no way to get all the pancakes happy side up, or an integer representing the the minimum number of times you will need to use the oversized pancake flipper to do it.\n",
    "\n",
    "Limits\n",
    "\n",
    "1 ≤ T ≤ 100.\n",
    "Every character in S is either + or -.\n",
    "2 ≤ K ≤ length of S.\n",
    "Small dataset\n",
    "\n",
    "2 ≤ length of S ≤ 10.\n",
    "Large dataset\n",
    "\n",
    "2 ≤ length of S ≤ 1000.\n",
    "Sample\n",
    "\n",
    "\n",
    "Input \n",
    " \t\n",
    "Output \n",
    " \n",
    "3\n",
    "---+-++- 3\n",
    "+++++ 4\n",
    "-+-+- 4\n",
    "\n",
    "Case #1: 3\n",
    "Case #2: 0\n",
    "Case #3: IMPOSSIBLE\n",
    "In Case #1, you can get all the pancakes happy side up by first flipping the leftmost 3 pancakes, getting to ++++-++-, then the rightmost 3, getting to ++++---+, and finally the 3 pancakes that remain blank side up. There are other ways to do it with 3 flips or more, but none with fewer than 3 flips.\n",
    "\n",
    "In Case #2, all of the pancakes are already happy side up, so there is no need to flip any of them.\n",
    "\n",
    "In Case #3, there is no way to make the second and third pancakes from the left have the same side up, because any flip flips them both. Therefore, there is no way to make all of the pancakes happy side up."
   ]
  },
  {
   "cell_type": "markdown",
   "metadata": {
    "hidden": true,
    "run_control": {
     "frozen": false,
     "read_only": false
    }
   },
   "source": [
    "### Solution\n",
    "Convert to a bit string and then just twiddle the bits in a given range? Should be a very fast operation then"
   ]
  },
  {
   "cell_type": "code",
   "execution_count": 121,
   "metadata": {
    "hidden": true,
    "run_control": {
     "frozen": false,
     "read_only": false
    }
   },
   "outputs": [
    {
     "name": "stdout",
     "output_type": "stream",
     "text": [
      "3\r\n",
      "---+-++- 3\r\n",
      "+++++ 4\r\n",
      "-+-+- 4"
     ]
    }
   ],
   "source": [
    "## write out a tiny example file\n",
    "problem_name = 'pancake_flipper'\n",
    "example = \"\"\"3\n",
    "---+-++- 3\n",
    "+++++ 4\n",
    "-+-+- 4\"\"\"\n",
    "write_example_file(problem_name, example)\n",
    "! cat pancake_flipper.input.ex"
   ]
  },
  {
   "cell_type": "code",
   "execution_count": 125,
   "metadata": {
    "hidden": true,
    "run_control": {
     "frozen": false,
     "read_only": false
    }
   },
   "outputs": [
    {
     "name": "stdout",
     "output_type": "stream",
     "text": [
      "# cases: 100\n",
      "                                         pancake_seq  flipper_size\n",
      "0                                           ---+-++-             3\n",
      "1                                              +++++             4\n",
      "2                                              -+-+-             4\n",
      "3  ++-++-++-++-++-++-++-++-++-++-++-++-++-++-++-+...             3\n",
      "4  -++++----++-++--+++----++-+++----+--++--++-+-+...            25\n",
      "\n",
      "[5 rows x 2 columns]\n"
     ]
    }
   ],
   "source": [
    "problem_name = 'pancake_flipper'\n",
    "# extension = 'ex'\n",
    "# extension = 'small'\n",
    "extension = 'large'\n",
    "col_names = ['pancake_seq', 'flipper_size']\n",
    "\n",
    "n_cases, inputs = read_input(problem_name, extension, col_names)"
   ]
  },
  {
   "cell_type": "code",
   "execution_count": 110,
   "metadata": {
    "collapsed": true,
    "hidden": true,
    "run_control": {
     "frozen": false,
     "read_only": false
    }
   },
   "outputs": [],
   "source": [
    "happy_side = '+'\n",
    "blank_side = '-'\n",
    "flipper = {happy_side: blank_side, blank_side: happy_side}\n",
    "flip = flipper.get\n",
    "\n",
    "def count_flips(input_row):\n",
    "    \"\"\"\n",
    "    Counts the number of flips necessary to get all of the pancakes happy side up.\n",
    "    :param input_row: a row from the input dataframe; must contain columns:\n",
    "                       - 'flipper_size' (int): size of the pancake flipper\n",
    "                       - 'pancake_seq' (str): happy_side or blank_side for each pancake\n",
    "    :returns: minimum number of flips or 'IMPOSSIBLE' if the problem is not solvable\n",
    "    \"\"\"\n",
    "    flipper_size = input_row.flipper_size\n",
    "    pancake_seq = list(input_row.pancake_seq)\n",
    "    \n",
    "    n_flips = 0\n",
    "    for pancake_idx in xrange(len(pancake_seq) - flipper_size + 1):\n",
    "        pancake = pancake_seq[pancake_idx]\n",
    "        if pancake == happy_side:\n",
    "            continue\n",
    "        else:\n",
    "            # change p + next k-1\n",
    "            for flip_idx in xrange(pancake_idx, pancake_idx + flipper_size):\n",
    "                pancake_seq[flip_idx] = flip(pancake_seq[flip_idx])\n",
    "            n_flips += 1\n",
    "\n",
    "    if all(map(lambda pancake: pancake == happy_side, pancake_seq)):\n",
    "        return n_flips\n",
    "    else:\n",
    "        return \"IMPOSSIBLE\""
   ]
  },
  {
   "cell_type": "code",
   "execution_count": 130,
   "metadata": {
    "hidden": true,
    "run_control": {
     "frozen": false,
     "read_only": false
    }
   },
   "outputs": [
    {
     "name": "stdout",
     "output_type": "stream",
     "text": [
      "   case number    solution\n",
      "0  Case    #1:           3\n",
      "1  Case    #2:           0\n",
      "2  Case    #3:  IMPOSSIBLE\n",
      "3  Case    #4:  IMPOSSIBLE\n",
      "4  Case    #5:  IMPOSSIBLE\n",
      "\n",
      "[5 rows x 3 columns]\n"
     ]
    }
   ],
   "source": [
    "write_output(inputs, count_flips, problem_name, extension)"
   ]
  },
  {
   "cell_type": "markdown",
   "metadata": {
    "heading_collapsed": true,
    "run_control": {
     "frozen": false,
     "read_only": false
    }
   },
   "source": [
    "## Tidy Numbers"
   ]
  },
  {
   "cell_type": "markdown",
   "metadata": {
    "hidden": true,
    "run_control": {
     "frozen": false,
     "read_only": false
    }
   },
   "source": [
    "### Problem Description\n",
    "Tatiana likes to keep things tidy. Her toys are sorted from smallest to largest, her pencils are sorted from shortest to longest and her computers from oldest to newest. One day, when practicing her counting skills, she noticed that some integers, when written in base 10 with no leading zeroes, have their digits sorted in non-decreasing order. Some examples of this are 8, 123, 555, and 224488. She decided to call these numbers tidy. Numbers that do not have this property, like 20, 321, 495 and 999990, are not tidy.\n",
    "\n",
    "She just finished counting all positive integers in ascending order from 1 to N. What was the last tidy number she counted?\n",
    "\n",
    "Input\n",
    "\n",
    "The first line of the input gives the number of test cases, T. T lines follow. Each line describes a test case with a single integer N, the last number counted by Tatiana.\n",
    "\n",
    "Output\n",
    "\n",
    "For each test case, output one line containing Case #x: y, where x is the test case number (starting from 1) and y is the last tidy number counted by Tatiana.\n",
    "\n",
    "Limits\n",
    "\n",
    "1 ≤ T ≤ 100.\n",
    "Small dataset\n",
    "\n",
    "1 ≤ N ≤ 1000.\n",
    "Large dataset\n",
    "\n",
    "1 ≤ N ≤ 1018.\n",
    "Sample\n",
    "\n",
    "\n",
    "Input \n",
    " \t\n",
    "Output \n",
    " \n",
    "4\n",
    "132\n",
    "1000\n",
    "7\n",
    "111111111111111110\n",
    "\n",
    "Case #1: 129\n",
    "Case #2: 999\n",
    "Case #3: 7\n",
    "Case #4: 99999999999999999\n"
   ]
  },
  {
   "cell_type": "markdown",
   "metadata": {
    "hidden": true,
    "run_control": {
     "frozen": false,
     "read_only": false
    }
   },
   "source": [
    "### Solution"
   ]
  },
  {
   "cell_type": "code",
   "execution_count": 131,
   "metadata": {
    "hidden": true,
    "run_control": {
     "frozen": false,
     "read_only": false
    }
   },
   "outputs": [
    {
     "name": "stdout",
     "output_type": "stream",
     "text": [
      "4\r\n",
      "132\r\n",
      "1000\r\n",
      "7\r\n",
      "111111111111111110"
     ]
    }
   ],
   "source": [
    "problem_name = \"tidy_numbers\"\n",
    "example = \"\"\"4\n",
    "132\n",
    "1000\n",
    "7\n",
    "111111111111111110\"\"\"\n",
    "\n",
    "write_example_file(problem_name, example)\n",
    "! cat tidy_numbers.input.ex"
   ]
  },
  {
   "cell_type": "code",
   "execution_count": 188,
   "metadata": {
    "hidden": true,
    "run_control": {
     "frozen": false,
     "read_only": false
    }
   },
   "outputs": [
    {
     "name": "stdout",
     "output_type": "stream",
     "text": [
      "# cases: 100\n",
      "                    n\n",
      "0                 132\n",
      "1                1000\n",
      "2                   7\n",
      "3  111111111111111110\n",
      "4             7135689\n",
      "\n",
      "[5 rows x 1 columns]\n"
     ]
    }
   ],
   "source": [
    "problem_name = 'tidy_numbers'\n",
    "# extension = 'ex'\n",
    "# extension = 'small'\n",
    "extension = 'large'\n",
    "\n",
    "n_cases, inputs = read_input(problem_name, extension, col_names=['n'])"
   ]
  },
  {
   "cell_type": "code",
   "execution_count": 189,
   "metadata": {
    "collapsed": true,
    "hidden": true,
    "run_control": {
     "frozen": false,
     "read_only": false
    }
   },
   "outputs": [],
   "source": [
    "def is_tidy(number):\n",
    "    \"\"\"\n",
    "    A number is tidy if its digits are non-decreasing (read left to right)\n",
    "    :param number: the number to check for tidiness\n",
    "    :returns: True if number is tidy else False\n",
    "    \"\"\"\n",
    "    digits_list = map(int, list(str(number))) # convert to list of digits\n",
    "    for i in xrange(1, len(digits_list)):\n",
    "        if digits_list[i] < digits_list[i - 1]:\n",
    "            return False\n",
    "    return True\n",
    "\n",
    "\n",
    "def find_last_tidy_naive(input_row):\n",
    "    \"\"\"\n",
    "    WARNING: this is a very slow way to do this\n",
    "    Returns the largest tidy number less than or equal to input_row.n\n",
    "    \"\"\"\n",
    "    for i in xrange(input_row.n, 0, -1):\n",
    "        if is_tidy(i):\n",
    "            return i"
   ]
  },
  {
   "cell_type": "code",
   "execution_count": 190,
   "metadata": {
    "collapsed": true,
    "hidden": true,
    "run_control": {
     "frozen": false,
     "read_only": false
    }
   },
   "outputs": [],
   "source": [
    "def find_last_tidy(input_row):\n",
    "    \"\"\"\n",
    "    Returns the largest tidy number less than or equal to input_row.n\n",
    "    \"\"\"\n",
    "    digits = np.array(list(str(input_row.n))).astype(int) # convert to array of integers\n",
    "    for digit_idx in xrange(len(digits) - 1, 0, -1):\n",
    "        if digits[digit_idx] < digits[digit_idx - 1]: # decrease! not tidy!!\n",
    "            digits[digit_idx - 1] -= 1\n",
    "            digits[digit_idx:] = 9\n",
    "    digits = digits[np.where(digits > 0)] # drop leading 0 if extant\n",
    "    last_tidy_num = int(''.join(digits.astype(str)))\n",
    "    return last_tidy_num"
   ]
  },
  {
   "cell_type": "code",
   "execution_count": 191,
   "metadata": {
    "hidden": true,
    "run_control": {
     "frozen": false,
     "read_only": false
    }
   },
   "outputs": [
    {
     "name": "stdout",
     "output_type": "stream",
     "text": [
      "   case number           solution\n",
      "0  Case    #1:                129\n",
      "1  Case    #2:                999\n",
      "2  Case    #3:                  7\n",
      "3  Case    #4:  99999999999999999\n",
      "4  Case    #5:            6999999\n",
      "\n",
      "[5 rows x 3 columns]\n"
     ]
    }
   ],
   "source": [
    "write_output(inputs, find_last_tidy, problem_name, extension)"
   ]
  },
  {
   "cell_type": "markdown",
   "metadata": {
    "heading_collapsed": true,
    "run_control": {
     "frozen": false,
     "read_only": false
    }
   },
   "source": [
    "## Bathroom Stalls"
   ]
  },
  {
   "cell_type": "markdown",
   "metadata": {
    "hidden": true,
    "run_control": {
     "frozen": false,
     "read_only": false
    }
   },
   "source": [
    "### Problem Description\n",
    "A certain bathroom has N + 2 stalls in a single row; the stalls on the left and right ends are permanently occupied by the bathroom guards. The other N stalls are for users.\n",
    "\n",
    "Whenever someone enters the bathroom, they try to choose a stall that is as far from other people as possible. To avoid confusion, they follow deterministic rules: For each empty stall S, they compute two values LS and RS, each of which is the number of empty stalls between S and the closest occupied stall to the left or right, respectively. Then they consider the set of stalls with the farthest closest neighbor, that is, those S for which min(LS, RS) is maximal. If there is only one such stall, they choose it; otherwise, they choose the one among those where max(LS, RS) is maximal. If there are still multiple tied stalls, they choose the leftmost stall among those.\n",
    "\n",
    "K people are about to enter the bathroom; each one will choose their stall before the next arrives. Nobody will ever leave.\n",
    "\n",
    "When the last person chooses their stall S, what will the values of max(LS, RS) and min(LS, RS) be?\n",
    "\n",
    "Solving this problem\n",
    "\n",
    "This problem has 2 Small datasets and 1 Large dataset. You must solve the first Small dataset before you can attempt the second Small dataset. You will be able to retry either of the Small datasets (with a time penalty). You will be able to make a single attempt at the Large, as usual, only after solving both Small datasets.\n",
    "\n",
    "Input\n",
    "\n",
    "The first line of the input gives the number of test cases, T. T lines follow. Each line describes a test case with two integers N and K, as described above.\n",
    "\n",
    "Output\n",
    "\n",
    "For each test case, output one line containing Case #x: y z, where x is the test case number (starting from 1), y is max(LS, RS), and z is min(LS, RS) as calculated by the last person to enter the bathroom for their chosen stall S.\n",
    "\n",
    "Limits\n",
    "\n",
    "1 ≤ T ≤ 100.\n",
    "1 ≤ K ≤ N.\n",
    "Small dataset 1\n",
    "\n",
    "1 ≤ N ≤ 1000.\n",
    "Small dataset 2\n",
    "\n",
    "1 ≤ N ≤ 106.\n",
    "Large dataset\n",
    "\n",
    "1 ≤ N ≤ 1018.\n",
    "Sample\n",
    "\n",
    "\n",
    "Input \n",
    " \t\n",
    "Output \n",
    " \n",
    "5\n",
    "4 2\n",
    "5 2\n",
    "6 2\n",
    "1000 1000\n",
    "1000 1\n",
    "\n",
    "Case #1: 1 0\n",
    "Case #2: 1 0\n",
    "Case #3: 1 1\n",
    "Case #4: 0 0\n",
    "Case #5: 500 499\n",
    "\n",
    "In Case #1, the first person occupies the leftmost of the middle two stalls, leaving the following configuration (O stands for an occupied stall and . for an empty one): O.O..O. Then, the second and last person occupies the stall immediately to the right, leaving 1 empty stall on one side and none on the other.\n",
    "\n",
    "In Case #2, the first person occupies the middle stall, getting to O..O..O. Then, the second and last person occupies the leftmost stall.\n",
    "\n",
    "In Case #3, the first person occupies the leftmost of the two middle stalls, leaving O..O...O. The second person then occupies the middle of the three consecutive empty stalls.\n",
    "\n",
    "In Case #4, every stall is occupied at the end, no matter what the stall choices are.\n",
    "\n",
    "In Case #5, the first and only person chooses the leftmost middle stall."
   ]
  },
  {
   "cell_type": "markdown",
   "metadata": {
    "hidden": true,
    "run_control": {
     "frozen": false,
     "read_only": false
    }
   },
   "source": [
    "### Solution"
   ]
  },
  {
   "cell_type": "code",
   "execution_count": 299,
   "metadata": {
    "hidden": true,
    "run_control": {
     "frozen": false,
     "read_only": false
    }
   },
   "outputs": [
    {
     "name": "stdout",
     "output_type": "stream",
     "text": [
      "5\r\n",
      "4 2\r\n",
      "5 2\r\n",
      "6 2\r\n",
      "1000 1000\r\n",
      "1000 1"
     ]
    }
   ],
   "source": [
    "problem_name = 'bathroom_stalls'\n",
    "example = \"\"\"5\n",
    "4 2\n",
    "5 2\n",
    "6 2\n",
    "1000 1000\n",
    "1000 1\"\"\"\n",
    "write_example_file(problem_name, example)\n",
    "! cat bathroom_stalls_ex.in"
   ]
  },
  {
   "cell_type": "code",
   "execution_count": 303,
   "metadata": {
    "hidden": true,
    "run_control": {
     "frozen": false,
     "read_only": false
    }
   },
   "outputs": [
    {
     "name": "stdout",
     "output_type": "stream",
     "text": [
      "# cases: 100\n",
      "   n_stalls  n_people\n",
      "0         4         2\n",
      "1         5         2\n",
      "2         6         2\n",
      "3      1000      1000\n",
      "4      1000         1\n",
      "\n",
      "[5 rows x 2 columns]\n"
     ]
    }
   ],
   "source": [
    "# size = 'ex'\n",
    "# size = 'small'\n",
    "size = 'medium'\n",
    "# size = 'large'\n",
    "n_cases, inputs = read_input(problem_name, size, col_names=['n_stalls', 'n_people'])\n",
    "inputs.n_stalls += 2 # n_stalls = n + 2 (including the bodyguard stalls on the ends)"
   ]
  },
  {
   "cell_type": "code",
   "execution_count": 304,
   "metadata": {
    "code_folding": [],
    "collapsed": true,
    "hidden": true,
    "run_control": {
     "frozen": false,
     "read_only": false
    }
   },
   "outputs": [],
   "source": [
    "def compute_final_costs(input_row):\n",
    "    \"\"\"\n",
    "    \"\"\"\n",
    "    n_stalls = input_row.n_stalls\n",
    "    n_people = input_row.n_people\n",
    "    \n",
    "    stalls = [0] * n_stalls # 0 means available, 1 means taken\n",
    "    stalls[0] = 1 # guards are already there\n",
    "    stalls[-1] = 1\n",
    "    \n",
    "    # use -infinity for stalls with a person in them so that they'll never be picked\n",
    "    left_costs = np.array([-float('inf')] + range(n_stalls - 2) + [-float('inf')])\n",
    "    right_costs = np.array([-float('inf')] + range(n_stalls - 2 - 1, -1, -1) + [-float('inf')])\n",
    "    \n",
    "    \n",
    "    for person_idx in xrange(n_people): # find this person's stall and put them in\n",
    "        min_costs = np.where(left_costs < right_costs, left_costs, right_costs) # min of left or right\n",
    "        best_stalls = np.where(min_costs == min_costs.max())[0]\n",
    "\n",
    "        if len(best_stalls) == 1:\n",
    "            best_stall = best_stalls[0]\n",
    "        else:\n",
    "            max_costs = np.where(left_costs < right_costs, right_costs, left_costs) # max of left or right\n",
    "            best_stall = best_stalls[np.argmax(max_costs[best_stalls])]\n",
    "        \n",
    "        assert stalls[best_stall] == 0\n",
    "        stalls[best_stall] = 1\n",
    "        \n",
    "        # for the last person, we don't have to put them in, just calculate the costs they saw and return those\n",
    "        if person_idx == n_people - 1:\n",
    "            left_cost = int(left_costs[best_stall])\n",
    "            right_cost = int(right_costs[best_stall])\n",
    "            return sorted([left_cost, right_cost], reverse=True)\n",
    "        \n",
    "        # update left and right costs:\n",
    "        # to update left costs, start at the newly occupied stall and go to the right\n",
    "        # (so that the direction back is left) and change each one to have a new cost\n",
    "        # which is the minimum of its distance from the newly occupied stall and its\n",
    "        # only cost. Once you find an occupied stall, stop, because none of the stalls\n",
    "        # past that need updating; they're closer to that stall than the new one\n",
    "        # do essentially the same for the right costs, in the opposite direction\n",
    "\n",
    "        left_costs[best_stall] = -float('inf')\n",
    "        right_costs[best_stall] = -float('inf')\n",
    "\n",
    "        dist_from_this_stall = 0\n",
    "        for stall_idx in xrange(best_stall + 1, n_stalls):\n",
    "            if stalls[stall_idx] == 1:\n",
    "                break\n",
    "            left_costs[stall_idx] = dist_from_this_stall\n",
    "            dist_from_this_stall += 1\n",
    "\n",
    "        dist_from_this_stall = 0\n",
    "        for stall_idx in xrange(best_stall - 1, -1, -1):\n",
    "            if stalls[stall_idx] == 1:\n",
    "                break\n",
    "            right_costs[stall_idx] = dist_from_this_stall\n",
    "            dist_from_this_stall += 1"
   ]
  },
  {
   "cell_type": "code",
   "execution_count": 305,
   "metadata": {
    "hidden": true,
    "run_control": {
     "frozen": false,
     "read_only": false
    }
   },
   "outputs": [
    {
     "ename": "KeyboardInterrupt",
     "evalue": "",
     "output_type": "error",
     "traceback": [
      "\u001b[0;31m---------------------------------------------------------------------------\u001b[0m",
      "\u001b[0;31mKeyboardInterrupt\u001b[0m                         Traceback (most recent call last)",
      "\u001b[0;32m<ipython-input-305-4dfe8dda017a>\u001b[0m in \u001b[0;36m<module>\u001b[0;34m()\u001b[0m\n\u001b[0;32m----> 1\u001b[0;31m \u001b[0mwrite_output\u001b[0m\u001b[0;34m(\u001b[0m\u001b[0minputs\u001b[0m\u001b[0;34m,\u001b[0m \u001b[0mcompute_final_costs\u001b[0m\u001b[0;34m,\u001b[0m \u001b[0mproblem_name\u001b[0m\u001b[0;34m,\u001b[0m \u001b[0msize\u001b[0m\u001b[0;34m)\u001b[0m\u001b[0;34m\u001b[0m\u001b[0m\n\u001b[0m",
      "\u001b[0;32m<ipython-input-295-12d194a1d6ad>\u001b[0m in \u001b[0;36mwrite_output\u001b[0;34m(inputs, solver, problem_name, extension, verbose)\u001b[0m\n\u001b[1;32m     51\u001b[0m     \"\"\"\n\u001b[1;32m     52\u001b[0m \u001b[0;34m\u001b[0m\u001b[0m\n\u001b[0;32m---> 53\u001b[0;31m     \u001b[0moutput\u001b[0m \u001b[0;34m=\u001b[0m \u001b[0mpd\u001b[0m\u001b[0;34m.\u001b[0m\u001b[0mDataFrame\u001b[0m\u001b[0;34m(\u001b[0m\u001b[0minputs\u001b[0m\u001b[0;34m.\u001b[0m\u001b[0mapply\u001b[0m\u001b[0;34m(\u001b[0m\u001b[0msolver\u001b[0m\u001b[0;34m,\u001b[0m \u001b[0maxis\u001b[0m\u001b[0;34m=\u001b[0m\u001b[0;36m1\u001b[0m\u001b[0;34m)\u001b[0m\u001b[0;34m)\u001b[0m\u001b[0;34m\u001b[0m\u001b[0m\n\u001b[0m\u001b[1;32m     54\u001b[0m     \u001b[0moutput\u001b[0m\u001b[0;34m.\u001b[0m\u001b[0minsert\u001b[0m\u001b[0;34m(\u001b[0m\u001b[0;36m0\u001b[0m\u001b[0;34m,\u001b[0m \u001b[0;34m'case'\u001b[0m\u001b[0;34m,\u001b[0m \u001b[0;34m\"Case\"\u001b[0m\u001b[0;34m)\u001b[0m\u001b[0;34m\u001b[0m\u001b[0m\n\u001b[1;32m     55\u001b[0m     \u001b[0moutput\u001b[0m\u001b[0;34m.\u001b[0m\u001b[0minsert\u001b[0m\u001b[0;34m(\u001b[0m\u001b[0;36m1\u001b[0m\u001b[0;34m,\u001b[0m \u001b[0;34m'number'\u001b[0m\u001b[0;34m,\u001b[0m \u001b[0moutput\u001b[0m\u001b[0;34m.\u001b[0m\u001b[0mindex\u001b[0m \u001b[0;34m+\u001b[0m \u001b[0;36m1\u001b[0m\u001b[0;34m)\u001b[0m\u001b[0;34m\u001b[0m\u001b[0m\n",
      "\u001b[0;32m/usr/lib/python2.7/dist-packages/pandas/core/frame.pyc\u001b[0m in \u001b[0;36mapply\u001b[0;34m(self, func, axis, broadcast, raw, reduce, args, **kwds)\u001b[0m\n\u001b[1;32m   3310\u001b[0m                     \u001b[0;32mif\u001b[0m \u001b[0mreduce\u001b[0m \u001b[0;32mis\u001b[0m \u001b[0mNone\u001b[0m\u001b[0;34m:\u001b[0m\u001b[0;34m\u001b[0m\u001b[0m\n\u001b[1;32m   3311\u001b[0m                         \u001b[0mreduce\u001b[0m \u001b[0;34m=\u001b[0m \u001b[0mTrue\u001b[0m\u001b[0;34m\u001b[0m\u001b[0m\n\u001b[0;32m-> 3312\u001b[0;31m                     \u001b[0;32mreturn\u001b[0m \u001b[0mself\u001b[0m\u001b[0;34m.\u001b[0m\u001b[0m_apply_standard\u001b[0m\u001b[0;34m(\u001b[0m\u001b[0mf\u001b[0m\u001b[0;34m,\u001b[0m \u001b[0maxis\u001b[0m\u001b[0;34m,\u001b[0m \u001b[0mreduce\u001b[0m\u001b[0;34m=\u001b[0m\u001b[0mreduce\u001b[0m\u001b[0;34m)\u001b[0m\u001b[0;34m\u001b[0m\u001b[0m\n\u001b[0m\u001b[1;32m   3313\u001b[0m             \u001b[0;32melse\u001b[0m\u001b[0;34m:\u001b[0m\u001b[0;34m\u001b[0m\u001b[0m\n\u001b[1;32m   3314\u001b[0m                 \u001b[0;32mreturn\u001b[0m \u001b[0mself\u001b[0m\u001b[0;34m.\u001b[0m\u001b[0m_apply_broadcast\u001b[0m\u001b[0;34m(\u001b[0m\u001b[0mf\u001b[0m\u001b[0;34m,\u001b[0m \u001b[0maxis\u001b[0m\u001b[0;34m)\u001b[0m\u001b[0;34m\u001b[0m\u001b[0m\n",
      "\u001b[0;32m/usr/lib/python2.7/dist-packages/pandas/core/frame.pyc\u001b[0m in \u001b[0;36m_apply_standard\u001b[0;34m(self, func, axis, ignore_failures, reduce)\u001b[0m\n\u001b[1;32m   3398\u001b[0m             \u001b[0;32mtry\u001b[0m\u001b[0;34m:\u001b[0m\u001b[0;34m\u001b[0m\u001b[0m\n\u001b[1;32m   3399\u001b[0m                 \u001b[0;32mfor\u001b[0m \u001b[0mi\u001b[0m\u001b[0;34m,\u001b[0m \u001b[0mv\u001b[0m \u001b[0;32min\u001b[0m \u001b[0menumerate\u001b[0m\u001b[0;34m(\u001b[0m\u001b[0mseries_gen\u001b[0m\u001b[0;34m)\u001b[0m\u001b[0;34m:\u001b[0m\u001b[0;34m\u001b[0m\u001b[0m\n\u001b[0;32m-> 3400\u001b[0;31m                     \u001b[0mresults\u001b[0m\u001b[0;34m[\u001b[0m\u001b[0mi\u001b[0m\u001b[0;34m]\u001b[0m \u001b[0;34m=\u001b[0m \u001b[0mfunc\u001b[0m\u001b[0;34m(\u001b[0m\u001b[0mv\u001b[0m\u001b[0;34m)\u001b[0m\u001b[0;34m\u001b[0m\u001b[0m\n\u001b[0m\u001b[1;32m   3401\u001b[0m                     \u001b[0mkeys\u001b[0m\u001b[0;34m.\u001b[0m\u001b[0mappend\u001b[0m\u001b[0;34m(\u001b[0m\u001b[0mv\u001b[0m\u001b[0;34m.\u001b[0m\u001b[0mname\u001b[0m\u001b[0;34m)\u001b[0m\u001b[0;34m\u001b[0m\u001b[0m\n\u001b[1;32m   3402\u001b[0m             \u001b[0;32mexcept\u001b[0m \u001b[0mException\u001b[0m \u001b[0;32mas\u001b[0m \u001b[0me\u001b[0m\u001b[0;34m:\u001b[0m\u001b[0;34m\u001b[0m\u001b[0m\n",
      "\u001b[0;32m<ipython-input-304-e9de9997724e>\u001b[0m in \u001b[0;36mcompute_final_costs\u001b[0;34m(input_row)\u001b[0m\n\u001b[1;32m     16\u001b[0m     \u001b[0;32mfor\u001b[0m \u001b[0mperson_idx\u001b[0m \u001b[0;32min\u001b[0m \u001b[0mxrange\u001b[0m\u001b[0;34m(\u001b[0m\u001b[0mn_people\u001b[0m\u001b[0;34m)\u001b[0m\u001b[0;34m:\u001b[0m \u001b[0;31m# find this person's stall and put them in;\u001b[0m\u001b[0;34m\u001b[0m\u001b[0m\n\u001b[1;32m     17\u001b[0m         \u001b[0mmin_costs\u001b[0m \u001b[0;34m=\u001b[0m \u001b[0mnp\u001b[0m\u001b[0;34m.\u001b[0m\u001b[0mwhere\u001b[0m\u001b[0;34m(\u001b[0m\u001b[0mleft_costs\u001b[0m \u001b[0;34m<\u001b[0m \u001b[0mright_costs\u001b[0m\u001b[0;34m,\u001b[0m \u001b[0mleft_costs\u001b[0m\u001b[0;34m,\u001b[0m \u001b[0mright_costs\u001b[0m\u001b[0;34m)\u001b[0m \u001b[0;31m# min of left or right\u001b[0m\u001b[0;34m\u001b[0m\u001b[0m\n\u001b[0;32m---> 18\u001b[0;31m         \u001b[0mbest_stalls\u001b[0m \u001b[0;34m=\u001b[0m \u001b[0mnp\u001b[0m\u001b[0;34m.\u001b[0m\u001b[0mwhere\u001b[0m\u001b[0;34m(\u001b[0m\u001b[0mmin_costs\u001b[0m \u001b[0;34m==\u001b[0m \u001b[0mmin_costs\u001b[0m\u001b[0;34m.\u001b[0m\u001b[0mmax\u001b[0m\u001b[0;34m(\u001b[0m\u001b[0;34m)\u001b[0m\u001b[0;34m)\u001b[0m\u001b[0;34m[\u001b[0m\u001b[0;36m0\u001b[0m\u001b[0;34m]\u001b[0m\u001b[0;34m\u001b[0m\u001b[0m\n\u001b[0m\u001b[1;32m     19\u001b[0m \u001b[0;34m\u001b[0m\u001b[0m\n\u001b[1;32m     20\u001b[0m         \u001b[0;32mif\u001b[0m \u001b[0mlen\u001b[0m\u001b[0;34m(\u001b[0m\u001b[0mbest_stalls\u001b[0m\u001b[0;34m)\u001b[0m \u001b[0;34m==\u001b[0m \u001b[0;36m1\u001b[0m\u001b[0;34m:\u001b[0m\u001b[0;34m\u001b[0m\u001b[0m\n",
      "\u001b[0;31mKeyboardInterrupt\u001b[0m: "
     ]
    }
   ],
   "source": [
    "write_output(inputs, compute_final_costs, problem_name, size)"
   ]
  },
  {
   "cell_type": "markdown",
   "metadata": {
    "heading_collapsed": true,
    "run_control": {
     "frozen": false,
     "read_only": false
    }
   },
   "source": [
    "## Fashion Show"
   ]
  },
  {
   "cell_type": "markdown",
   "metadata": {
    "hidden": true,
    "run_control": {
     "frozen": false,
     "read_only": false
    }
   },
   "source": [
    "### Problem Statement"
   ]
  },
  {
   "cell_type": "markdown",
   "metadata": {
    "hidden": true,
    "run_control": {
     "frozen": false,
     "read_only": false
    }
   },
   "source": [
    "You are about to host a fashion show to show off three new styles of clothing. The show will be held on a stage which is in the most fashionable of all shapes: an N-by-N grid of cells.\n",
    "\n",
    "Each cell in the grid can be empty (which we represent with a . character) or can contain one fashion model. The models come in three types, depending on the clothing style they are wearing: +, x, and the super-trendy o. A cell with a + or x model in it adds 1 style point to the show. A cell with an o model in it adds 2 style points. Empty cells add no style points.\n",
    "\n",
    "To achieve the maximum artistic effect, there are rules on how models can be placed relative to each other.\n",
    "\n",
    "Whenever any two models share a row or column, at least one of the two must be a +.\n",
    "Whenever any two models share a diagonal of the grid, at least one of the two must be an x.\n",
    "Formally, a model located in row i0 and column j0 and a model located in row i1 and column j1 share a row if and only if i0 = i1, they share a column if and only if j0 = j1, and they share a diagonal if and only if i0 + j0 = i1 + j1 or i0 - j0 = i1 - j1.\n",
    "\n",
    "For example, the following grid is not legal:\n",
    "\n",
    "...\n",
    "x+o\n",
    ".+.\n",
    "The middle row has a pair of models (x and o) that does not include a +. The diagonal starting at the + in the bottom row and running up to the o in the middle row has two models, and neither of them is an x.\n",
    "\n",
    "However, the following grid is legal. No row, column, or diagonal violates the rules.\n",
    "\n",
    "+.x\n",
    "+x+\n",
    "o..\n",
    "Your artistic advisor has already placed M models in certain cells, following these rules. You are free to place any number (including zero) of additional models of whichever types you like. You may not remove existing models, but you may upgrade as many existing + and x models into o models as you wish, as long as the above rules are not violated.\n",
    "\n",
    "Your task is to find a legal way of placing and/or upgrading models that earns the maximum possible number of style points.\n",
    "\n",
    "Input\n",
    "\n",
    "The first line of the input gives the number of test cases, T. T test cases follow. Each test case begins with one line with two integers N and M, as described above. Then, M more lines follow; the i-th of these lines has a +, x, or o character (the type of the model) and two integers Ri and Ci (the position of the model). The rows of the grid are numbered 1 through N, from top to bottom. The columns of the grid are numbered 1 through N, from left to right.\n",
    "\n",
    "Output\n",
    "\n",
    "For each test case, first output one line containing Case #x: y z, where x is the test case number (starting from 1), y is the number of style points earned in your arrangement, and z is the total number of models you have added and/or substituted in. Then, for each model that you have added or substituted in, output exactly one line in exactly the same format described in the Input section, where the character is the type of the model that you have added or substituted in. These z lines can be in any order.\n",
    "\n",
    "If there are multiple valid answers, you may output any one of them.\n",
    "\n",
    "Limits\n",
    "\n",
    "1 ≤ T ≤ 100.\n",
    "1 ≤ N ≤ 100.\n",
    "1 ≤ Ci ≤ N, for all i.\n",
    "0 ≤ M ≤ N2.\n",
    "No two pre-placed models appear in the same cell.\n",
    "It is guaranteed that the set of pre-placed models follows the rules.\n",
    "Small dataset\n",
    "\n",
    "Ri = 1, for all i. (Any models that are pre-placed are in the top row. Note that you may add/replace models in that row and/or add models in other rows.)\n",
    "Large dataset\n",
    "\n",
    "1 ≤ Ri ≤ N, for all i.\n",
    "Sample\n",
    "\n",
    "\n",
    "Input \n",
    " \t\n",
    "Output \n",
    " \n",
    "3\n",
    "2 0\n",
    "1 1\n",
    "o 1 1\n",
    "3 4\n",
    "+ 2 3\n",
    "+ 2 1\n",
    "x 3 1\n",
    "+ 2 2\n",
    "\n",
    "Case #1: 4 3\n",
    "o 2 2\n",
    "+ 2 1\n",
    "x 1 1\n",
    "Case #2: 2 0\n",
    "Case #3: 6 2\n",
    "o 2 3\n",
    "x 1 2\n",
    "\n",
    "The sample output displays one set of answers to the sample cases. Other answers may be possible. Note that the last sample case would not appear in the Small dataset.\n",
    "\n",
    "In sample case #1, the grid is 2-by-2 and is initially blank. The output corresponds to the following grid. (In these explanations, we will use . to denote a blank cell.)\n",
    "\n",
    "x.\n",
    "+o\n",
    "In sample case #2, the only cell is already occupied by an o model, and it is impossible to add a new model or replace the o model.\n",
    "\n",
    "In sample case #3, the grid looks like this before you place any models:\n",
    "\n",
    "...\n",
    "+++\n",
    "x..\n",
    "The output corresponds to this grid:\n",
    "\n",
    ".x.\n",
    "++o\n",
    "x.."
   ]
  },
  {
   "cell_type": "markdown",
   "metadata": {
    "run_control": {
     "frozen": false,
     "read_only": false
    }
   },
   "source": [
    "# Round 2"
   ]
  },
  {
   "cell_type": "markdown",
   "metadata": {
    "collapsed": true,
    "heading_collapsed": true,
    "run_control": {
     "frozen": false,
     "read_only": false
    }
   },
   "source": [
    "## Alphabet Cake"
   ]
  },
  {
   "cell_type": "markdown",
   "metadata": {
    "hidden": true,
    "run_control": {
     "frozen": false,
     "read_only": false
    }
   },
   "source": [
    "### Problem Description\n",
    "You are catering a party for some children, and you are serving them a cake in the shape of a grid with R rows and C columns. Your assistant has started to decorate the cake by writing every child's initial in icing on exactly one cell of the cake. Each cell contains at most one initial, and since no two children share the same initial, no initial appears more than once on the cake.\n",
    "\n",
    "Each child wants a single rectangular (grid-aligned) piece of cake that has their initial and no other child's initial(s). Can you find a way to assign every blank cell of the cake to one child, such that this goal is accomplished? It is guaranteed that this is always possible. There is no need to split the cake evenly among the children, and one or more of them may even get a 1-by-1 piece; this will be a valuable life lesson about unfairness.\n",
    "\n",
    "Input\n",
    "\n",
    "The first line of the input gives the number of test cases, T. T test cases follow. Each begins with one line with two integers R and C. Then, there are R more lines of C characters each, representing the cake. Each character is either an uppercase English letter (which means that your assistant has already added that letter to that cell) or ? (which means that that cell is blank).\n",
    "\n",
    "Output\n",
    "\n",
    "For each test case, output one line containing Case #x: and nothing else. Then output R more lines of C characters each. Your output grid must be identical to the input grid, but with every ? replaced with an uppercase English letter, representing that that cell appears in the slice for the child who has that initial. You may not add letters that did not originally appear in the input. In your grid, for each letter, the region formed by all the cells containing that letter must be a single grid-aligned rectangle.\n",
    "\n",
    "If there are multiple possible answers, you may output any of them.\n",
    "\n",
    "Limits\n",
    "\n",
    "1 ≤ T ≤ 100.\n",
    "There is at least one letter in the input grid.\n",
    "No letter appears in more than one cell in the input grid.\n",
    "It is guaranteed that at least one answer exists for each test case.\n",
    "Small dataset\n",
    "\n",
    "1 ≤ R ≤ 12.\n",
    "1 ≤ C ≤ 12.\n",
    "R × C ≤ 12.\n",
    "Large dataset\n",
    "\n",
    "1 ≤ R ≤ 25.\n",
    "1 ≤ C ≤ 25.\n",
    "Sample\n",
    "\n",
    "\n",
    "Input \n",
    " \t\n",
    "Output \n",
    " \n",
    "3\n",
    "3 3\n",
    "G??\n",
    "?C?\n",
    "??J\n",
    "3 4\n",
    "CODE\n",
    "????\n",
    "?JAM\n",
    "2 2\n",
    "CA\n",
    "KE\n",
    "\n",
    "Case #1:\n",
    "GGJ\n",
    "CCJ\n",
    "CCJ\n",
    "Case #2:\n",
    "CODE\n",
    "COAE\n",
    "JJAM\n",
    "Case #3:\n",
    "CA\n",
    "KE\n",
    "\n",
    "The sample output displays one set of answers to the sample cases. Other answers may be possible."
   ]
  },
  {
   "cell_type": "markdown",
   "metadata": {
    "hidden": true,
    "run_control": {
     "frozen": false,
     "read_only": false
    }
   },
   "source": [
    "### Solution"
   ]
  },
  {
   "cell_type": "code",
   "execution_count": 104,
   "metadata": {
    "hidden": true,
    "run_control": {
     "frozen": false,
     "read_only": false
    }
   },
   "outputs": [
    {
     "name": "stdout",
     "output_type": "stream",
     "text": [
      "3\r\n",
      "3 3\r\n",
      "G??\r\n",
      "?C?\r\n",
      "??J\r\n",
      "3 4\r\n",
      "CODE\r\n",
      "????\r\n",
      "?JAM\r\n",
      "2 2\r\n",
      "CA\r\n",
      "KE"
     ]
    }
   ],
   "source": [
    "problem_name = \"alphabet_cake\"\n",
    "write_example_file(problem_name,\n",
    "\"\"\"3\n",
    "3 3\n",
    "G??\n",
    "?C?\n",
    "??J\n",
    "3 4\n",
    "CODE\n",
    "????\n",
    "?JAM\n",
    "2 2\n",
    "CA\n",
    "KE\"\"\")\n",
    "! cat ./alphabet_cake_ex.in"
   ]
  },
  {
   "cell_type": "code",
   "execution_count": 106,
   "metadata": {
    "hidden": true,
    "run_control": {
     "frozen": false,
     "read_only": false
    }
   },
   "outputs": [
    {
     "data": {
      "text/plain": [
       "['3 3',\n",
       " 'G??',\n",
       " '?C?',\n",
       " '??J',\n",
       " '3 4',\n",
       " 'CODE',\n",
       " '????',\n",
       " '?JAM',\n",
       " '2 2',\n",
       " 'CA',\n",
       " 'KE',\n",
       " '25 25',\n",
       " '?????????????????????????',\n",
       " '?????????????????????????',\n",
       " '?????????????????????????',\n",
       " '?????????????????????????',\n",
       " '?????????????????????????',\n",
       " '?????????????????????????',\n",
       " '?????????????????????????',\n",
       " '?????????????????H???????']"
      ]
     },
     "execution_count": 106,
     "metadata": {},
     "output_type": "execute_result"
    }
   ],
   "source": [
    "size = \"large\"\n",
    "n_cases, inputs = read_input(problem_name, size, raw=True)\n",
    "inputs = map(lambda x: x.strip(), inputs)\n",
    "inputs[:20]"
   ]
  },
  {
   "cell_type": "code",
   "execution_count": 56,
   "metadata": {
    "collapsed": true,
    "hidden": true,
    "run_control": {
     "frozen": false,
     "read_only": false
    }
   },
   "outputs": [],
   "source": [
    "i = 0\n",
    "case_num = 1\n",
    "with open(problem_name + \"_\" + size + \".out\", 'w') as out_file:\n",
    "    while i < len(inputs):\n",
    "        cake_height, cake_width = map(int, inputs[i].split())\n",
    "\n",
    "        cake = pd.DataFrame(map(list, inputs[i + 1 : i + cake_height + 1]))\n",
    "\n",
    "        # fill in row-wise in first (because I like this order)\n",
    "        cake = cake.transpose()\n",
    "        cake.replace(\"?\", np.nan, inplace=True)\n",
    "        cake.ffill(inplace=True)\n",
    "        cake.bfill(inplace=True)\n",
    "\n",
    "        # now fill column-wise as necessary\n",
    "        cake = cake.transpose()\n",
    "        cake.ffill(inplace=True)\n",
    "        cake.bfill(inplace=True)\n",
    "\n",
    "        out_file.write(\"Case #{}:\\n\".format(case_num))\n",
    "        out_file.write(cake.to_string(header=None, index=None).replace(\" \", \"\") + \"\\n\")\n",
    "        \n",
    "\n",
    "        i += cake_height + 1 # skip to next problem\n",
    "        case_num += 1"
   ]
  },
  {
   "cell_type": "code",
   "execution_count": 57,
   "metadata": {
    "hidden": true,
    "run_control": {
     "frozen": false,
     "read_only": false
    }
   },
   "outputs": [
    {
     "name": "stdout",
     "output_type": "stream",
     "text": [
      "Case #1:\r\n",
      "GGG\r\n",
      "CCC\r\n",
      "JJJ\r\n",
      "Case #2:\r\n",
      "CODE\r\n",
      "CODE\r\n",
      "JJAM\r\n",
      "Case #3:\r\n",
      "CA\r\n",
      "KE\r\n",
      "Case #4:\r\n",
      "B\r\n",
      "A\r\n",
      "Case #5:\r\n",
      "EEEE\r\n",
      "AAAA\r\n",
      "BBDC\r\n",
      "Case #6:\r\n",
      "ABCD\r\n"
     ]
    }
   ],
   "source": [
    "! head -n 20 alphabet_cake_small.out"
   ]
  },
  {
   "cell_type": "markdown",
   "metadata": {
    "heading_collapsed": true,
    "run_control": {
     "frozen": false,
     "read_only": false
    }
   },
   "source": [
    "## Ratatouille"
   ]
  },
  {
   "cell_type": "markdown",
   "metadata": {
    "heading_collapsed": true,
    "hidden": true,
    "run_control": {
     "frozen": false,
     "read_only": false
    }
   },
   "source": [
    "### Problem Description"
   ]
  },
  {
   "cell_type": "markdown",
   "metadata": {
    "hidden": true,
    "run_control": {
     "frozen": false,
     "read_only": false
    }
   },
   "source": [
    "You've discovered it: the ultimate recipe for ratatouille, the famous French dish! You know which ingredients to use, and how many grams of each one to use, in order to make one serving of ratatouille. But you believe that anyone can cook, and so you want to share the recipe with the world... and make some money in the process!\n",
    "\n",
    "You have ordered some ingredient packages that are easy to ship. Each package contains some amount of one ingredient; different packages may have different amounts even if they contain the same ingredient. For convenience, you ordered the same number of packages of each ingredient.\n",
    "\n",
    "You would like to use these packages to form as many ratatouille kits as possible to send to customers. A kit consists of exactly one package of each ingredient, and a label with the integer number of servings of ratatouille that the kit makes. Since you do not want to shortchange customers or waste food, each package must contain between 90 and 110 percent (inclusive) of the amount of that ingredient that is actually needed to make the number of servings of ratatouille on the kit's label.\n",
    "\n",
    "For example, suppose that one serving of ratatouille takes 500 g of tomato and 300 g of onion. Suppose that you have a 900 g package of tomato and a 660 g package of onion. You could form these into a kit that makes two servings of ratatouille. To make two servings, 1000 g of tomato and 600 g of onion are required. Since the 900 g of tomato you have is within [90, 110]% of the 1000 g of tomato required, and the 660 g of onion you have is within [90, 110]% of the 600 g of onion required, this is acceptable. However, you could not say that the kit makes one or three servings of ratatouille, nor could you say that it makes 1.999 servings (the number of servings must be an integer).\n",
    "\n",
    "Note that there are some sets of packages that could never form a kit. Continuing with our recipe above, if you have a 1500 g package of tomato and an 809 g package of onion, for example, there is no amount of servings that you can make. Three servings would take 1500 g of tomato and 900 g of onion, and the amount of onion is not within the [90, 110]% range. No other integer amount of servings works, either.\n",
    "\n",
    "You want to share your recipe with as many customers as possible, so you want to produce the maximum number of valid kits. (Of course, each package can be used in at most one kit.) What is the largest number of kits that you can form? Note that you are not required to maximize the total number of servings of ratatouille formed.\n",
    "\n",
    "Input\n",
    "\n",
    "The first line of the input gives the number of test cases, T. T test cases follow. Each case consists of the following:\n",
    "\n",
    "One line with two integers N: the number of ingredients, and P, the number of packages of each ingredient.\n",
    "One line with N integers Ri. The i-th of these represents the number of grams of the i-th ingredient needed to make one serving of ratatouille.\n",
    "N more lines of P integers each. The j-th value on the i-th of these lines, Qij, represents the quantity, in grams, in the j-th package of the i-th ingredient.\n",
    "Output\n",
    "\n",
    "For each test case, output one line containing Case #x: y, where x is the test case number (starting from 1) and y is the maximum number of kits you can produce, as described above.\n",
    "\n",
    "Limits\n",
    "\n",
    "1 ≤ T ≤ 100.\n",
    "1 ≤ Ri ≤ 106, for all i.\n",
    "1 ≤ Qij ≤ 106, for all i and j.\n",
    "Small dataset\n",
    "\n",
    "1 ≤ N ≤ 2.\n",
    "1 ≤ P ≤ 8.\n",
    "Large dataset\n",
    "\n",
    "1 ≤ N ≤ 50.\n",
    "1 ≤ P ≤ 50.\n",
    "N × P ≤ 1000.\n",
    "Sample\n",
    "\n",
    "\n",
    "Input \n",
    " \t\n",
    "Output \n",
    " \n",
    "6\n",
    "2 1\n",
    "500 300\n",
    "900\n",
    "660\n",
    "2 1\n",
    "500 300\n",
    "1500\n",
    "809\n",
    "2 2\n",
    "50 100\n",
    "450 449\n",
    "1100 1101\n",
    "2 1\n",
    "500 300\n",
    "300\n",
    "500\n",
    "1 8\n",
    "10\n",
    "11 13 17 11 16 14 12 18\n",
    "3 3\n",
    "70 80 90\n",
    "1260 1500 700\n",
    "800 1440 1600\n",
    "1700 1620 900\n",
    "\n",
    "Case #1: 1\n",
    "Case #2: 0\n",
    "Case #3: 1\n",
    "Case #4: 0\n",
    "Case #5: 3\n",
    "Case #6: 3\n",
    "\n",
    "Note that the last sample case would not appear in the Small dataset.\n",
    "\n",
    "Sample cases #1 and #2 are the ones described in the problem statement.\n",
    "In sample case #3, you can form a kit out of the 450 g package of the first ingredient and the 1100 g package of the second ingredient, and say that the kit makes 10 servings of ratatouille. That number of servings requires 500 g of the first ingredient; you have 450 g, which is 90% of 500 and within the allowed limit. It requires 1000 g of the second ingredient; you have 1100 g, which is 110% of 1000 and within the allowed limit.\n",
    "\n",
    "Once you form this kit, however, you cannot form the remaining packages into a kit. 449 g of the first ingredient and 1101 g of the second ingredient would not be able to form 10 (or any other number of) servings. In fact, the (450 g, 1100 g) kit is the only kit that can be formed from these packages.\n",
    "\n",
    "In sample case #4, no kits can be formed. Note that the recipe requires particular amounts of particular ingredients in the given order; the ingredients are not interchangeable. This is fine French cuisine, after all!\n",
    "\n",
    "In sample case #5, the recipe has only one ingredient — how elegantly simple! A single serving cannot use more than 11 g, and two servings cannot use fewer than 18 g. It is possible to form three kits: two with an 11 g package, and one with an 18 g package.\n",
    "\n",
    "In sample case #6, you can form three valid kits: (700 g, 800 g, 900 g), which makes 10 servings, and (1500 g, 1600 g, 1700 g) and (1260 g, 1440 g, 1620 g), each of which makes 20 servings. Note that you could also say that the (1260 g, 1440 g, 1620 g) kit makes 17, 18, or 19 servings, but it does not matter how many servings a kit makes as long as the kit is valid."
   ]
  },
  {
   "cell_type": "markdown",
   "metadata": {
    "hidden": true,
    "run_control": {
     "frozen": false,
     "read_only": false
    }
   },
   "source": [
    "### Solution"
   ]
  },
  {
   "cell_type": "code",
   "execution_count": 68,
   "metadata": {
    "hidden": true,
    "run_control": {
     "frozen": false,
     "read_only": false
    }
   },
   "outputs": [
    {
     "name": "stdout",
     "output_type": "stream",
     "text": [
      "6\r\n",
      "2 1\r\n",
      "500 300\r\n",
      "900\r\n",
      "660\r\n",
      "2 1\r\n",
      "500 300\r\n",
      "1500\r\n",
      "809\r\n",
      "2 2\r\n",
      "50 100\r\n",
      "450 449\r\n",
      "1100 1101\r\n",
      "2 1\r\n",
      "500 300\r\n",
      "300\r\n",
      "500\r\n",
      "1 8\r\n",
      "10\r\n",
      "11 13 17 11 16 14 12 18"
     ]
    }
   ],
   "source": [
    "problem_name = 'ratatouille'\n",
    "example = \"\"\"6\n",
    "2 1\n",
    "500 300\n",
    "900\n",
    "660\n",
    "2 1\n",
    "500 300\n",
    "1500\n",
    "809\n",
    "2 2\n",
    "50 100\n",
    "450 449\n",
    "1100 1101\n",
    "2 1\n",
    "500 300\n",
    "300\n",
    "500\n",
    "1 8\n",
    "10\n",
    "11 13 17 11 16 14 12 18\"\"\"\n",
    "write_example_file(problem_name, example)\n",
    "! cat ratatouille_ex.in"
   ]
  },
  {
   "cell_type": "code",
   "execution_count": 69,
   "metadata": {
    "hidden": true,
    "run_control": {
     "frozen": false,
     "read_only": false
    }
   },
   "outputs": [
    {
     "data": {
      "text/plain": [
       "['2 1',\n",
       " '500 300',\n",
       " '900',\n",
       " '660',\n",
       " '2 1',\n",
       " '500 300',\n",
       " '1500',\n",
       " '809',\n",
       " '2 2',\n",
       " '50 100',\n",
       " '450 449',\n",
       " '1100 1101',\n",
       " '2 1',\n",
       " '500 300',\n",
       " '300',\n",
       " '500',\n",
       " '1 8',\n",
       " '10',\n",
       " '11 13 17 11 16 14 12 18']"
      ]
     },
     "execution_count": 69,
     "metadata": {},
     "output_type": "execute_result"
    }
   ],
   "source": [
    "size = 'ex'\n",
    "n_cases, inputs = read_input(problem_name, size, raw=True)\n",
    "inputs"
   ]
  },
  {
   "cell_type": "code",
   "execution_count": 82,
   "metadata": {
    "hidden": true,
    "run_control": {
     "frozen": false,
     "read_only": false
    }
   },
   "outputs": [
    {
     "name": "stdout",
     "output_type": "stream",
     "text": [
      "2 1\n",
      "[500, 300]\n",
      "[[900], [660]]\n",
      "2 1\n",
      "[500, 300]\n",
      "[[1500], [809]]\n",
      "2 2\n",
      "[50, 100]\n",
      "[[450, 449], [1100, 1101]]\n",
      "2 1\n",
      "[500, 300]\n",
      "[[300], [500]]\n",
      "1 8\n",
      "[10]\n",
      "[[11, 13, 17, 11, 16, 14, 12, 18]]\n"
     ]
    }
   ],
   "source": [
    "i = 0\n",
    "case_num = 1\n",
    "with open(problem_name + \"_\" + size + \".out\", 'w') as out_file:\n",
    "    while i < len(inputs):\n",
    "        n_ingreds, n_packages = map(int, inputs[i].split())\n",
    "        \n",
    "        serving_amounts = map(int, inputs[i + 1].split())\n",
    "        ingred_packages = map(lambda x: [int(elem) for elem in x.split()], inputs[i + 2 : i + n_ingreds + 2])\n",
    "\n",
    "        for ingred_idx in xrange(n_ingreds):\n",
    "            for pack_idx in xrange(n_packages):\n",
    "                \n",
    "        \n",
    "#         for  in ingred_packages[0]:\n",
    "            \n",
    "        \n",
    "        out_file.write(\"Case #{}: {}\\n\".format(case_num, n_kits_total))\n",
    "\n",
    "        i += n_ingreds + 2 # skip to next problem\n",
    "        case_num += 1\n",
    "        \n",
    "        print(n_ingreds, n_packages)\n",
    "        print(ingred_amounts)\n",
    "        print(ingred_packages)"
   ]
  },
  {
   "cell_type": "code",
   "execution_count": null,
   "metadata": {
    "collapsed": true,
    "hidden": true,
    "run_control": {
     "frozen": false,
     "read_only": false
    }
   },
   "outputs": [],
   "source": [
    "possible_servings = {}\n",
    "pack_amount = 900\n",
    "serving_amount = 500\n",
    "ingred_possible_servings = map(lambda pack_amount: int(np.floor(pack_amount / serving_amount)), [pack_amount / 0.9, pack_amount / 1.1])\n",
    "if not possible_servings: # empty set means this is the first ingredient\n",
    "    possible_servings = ingred_possible_servings\n",
    "else:\n",
    "    possible_servings = possible_servings.intersection(ingred_possible_servings)\n",
    "\n",
    "if not possible_servings: # empty set here means this set of ingredients can't form a kit\n",
    "    \n",
    "\n",
    "pack_amount = 660\n",
    "serving_amount = 300\n",
    "next_ingred_possible_servings = map(lambda pack_amount: int(np.floor(pack_amount / serving_amount)), [pack_amount / 0.9, pack_amount / 1.1])\n",
    "\n",
    "possible_servings = set(possible_servings).intersection(next_ingred_possible_servings)"
   ]
  },
  {
   "cell_type": "code",
   "execution_count": 103,
   "metadata": {
    "hidden": true,
    "run_control": {
     "frozen": false,
     "read_only": false
    }
   },
   "outputs": [
    {
     "data": {
      "text/plain": [
       "2"
      ]
     },
     "execution_count": 103,
     "metadata": {},
     "output_type": "execute_result"
    }
   ],
   "source": [
    "pack_amount = 900\n",
    "serving_amount = 500\n",
    "possible_servings = map(lambda pack_amount: int(np.floor(pack_amount / serving_amount)), [pack_amount / 0.9, pack_amount / 1.1])\n",
    "\n",
    "pack_amount = 660\n",
    "serving_amount = 300\n",
    "next_ingred_possible_servings = map(lambda pack_amount: int(np.floor(pack_amount / serving_amount)), [pack_amount / 0.9, pack_amount / 1.1])\n",
    "\n",
    "possible_servings = set(possible_servings).intersection(next_ingred_possible_servings)"
   ]
  },
  {
   "cell_type": "code",
   "execution_count": 93,
   "metadata": {
    "hidden": true,
    "run_control": {
     "frozen": false,
     "read_only": false
    }
   },
   "outputs": [
    {
     "data": {
      "text/plain": [
       "[(1.9800000000000002, 1.62)]"
      ]
     },
     "execution_count": 93,
     "metadata": {},
     "output_type": "execute_result"
    }
   ],
   "source": [
    "map(lambda x: (1.1 * x, 0.9 * x), [pack_amount / serving_amount])"
   ]
  },
  {
   "cell_type": "code",
   "execution_count": 96,
   "metadata": {
    "hidden": true,
    "run_control": {
     "frozen": false,
     "read_only": false
    }
   },
   "outputs": [
    {
     "data": {
      "text/plain": [
       "(1000.0, 818.1818181818181)"
      ]
     },
     "execution_count": 96,
     "metadata": {},
     "output_type": "execute_result"
    }
   ],
   "source": [
    "pack_amount / 0.9, pack_amount / 1.1"
   ]
  },
  {
   "cell_type": "code",
   "execution_count": null,
   "metadata": {
    "collapsed": true,
    "hidden": true,
    "run_control": {
     "frozen": false,
     "read_only": false
    }
   },
   "outputs": [],
   "source": []
  },
  {
   "cell_type": "markdown",
   "metadata": {
    "heading_collapsed": true,
    "run_control": {
     "frozen": false,
     "read_only": false
    }
   },
   "source": [
    "## Play The Dragon"
   ]
  },
  {
   "cell_type": "markdown",
   "metadata": {
    "hidden": true,
    "run_control": {
     "frozen": false,
     "read_only": false
    }
   },
   "source": [
    "### Problem Description\n",
    "You are a friendly dragon fighting to protect your lair from a greedy knight! You have Hd health points and an attack power of Ad, and the knight has Hk health points and an attack power of Ak. If your health drops to 0 or below at any point; you are knocked out and you instantly lose; if the knight's health drops to 0 or below at any point, the knight is knocked out and you win!\n",
    "\n",
    "You will battle the knight in a series of turns. On each turn, you go first, and you can choose and execute any one of the following actions.\n",
    "\n",
    "Attack: Reduce the opponent's health by your own attack power.\n",
    "Buff: Increase your attack power by B for the rest of the battle.\n",
    "Cure: Your health becomes Hd.\n",
    "Debuff: Decrease the opponent's attack power by D for the rest of the battle. If a Debuff would cause the opponent's attack power to become less than 0, it instead sets it to 0.\n",
    "Then, if the knight's health is greater than 0 following your action, the knight will execute an Attack action. After that, the turn ends. (Note that a turn in which you defeat the knight still counts as a turn even though the knight does not get to act.)\n",
    "\n",
    "Note that buffs stack with each other; every buff adds an additional B to your attack power. Similarly, debuffs stack with each other.\n",
    "\n",
    "You would like to defeat the knight as fast as possible (if it is possible) so that you will not be late to help the villagers roast marshmallows at tonight's festival. Can you determine the minimum number of turns in which you can defeat the knight, or that it is IMPOSSIBLE to do so?\n",
    "Input\n",
    "\n",
    "The first line of the input gives the number of test cases, T. T test cases follow. Each consists of one line with six integers Hd, Ad, Hk, Ak, B, and D, as described above.\n",
    "\n",
    "Output\n",
    "\n",
    "For each test case, output one line containing Case #x: y, where x is the test case number (starting from 1) and y is either IMPOSSIBLE if it is not possible to defeat the knight, or the minimum number of turns needed to defeat the knight.\n",
    "\n",
    "Limits\n",
    "\n",
    "1 ≤ T ≤ 100.\n",
    "Small dataset\n",
    "\n",
    "1 ≤ Hd ≤ 100.\n",
    "1 ≤ Ad ≤ 100.\n",
    "1 ≤ Hk ≤ 100.\n",
    "1 ≤ Ak ≤ 100.\n",
    "0 ≤ B ≤ 100.\n",
    "0 ≤ D ≤ 100.\n",
    "Large dataset\n",
    "\n",
    "1 ≤ Hd ≤ 109.\n",
    "1 ≤ Ad ≤ 109.\n",
    "1 ≤ Hk ≤ 109.\n",
    "1 ≤ Ak ≤ 109.\n",
    "0 ≤ B ≤ 109.\n",
    "0 ≤ D ≤ 109.\n",
    "Sample\n",
    "\n",
    "\n",
    "Input \n",
    " \t\n",
    "Output \n",
    " \n",
    "4\n",
    "11 5 16 5 0 0\n",
    "3 1 3 2 2 0\n",
    "3 1 3 2 1 0\n",
    "2 1 5 1 1 1\n",
    "\n",
    "Case #1: 5\n",
    "Case #2: 2\n",
    "Case #3: IMPOSSIBLE\n",
    "Case #4: 5\n",
    "In Case #1, you have 11 health and 5 attack, and the knight has 16 health and 5 attack. One possible optimal sequence of actions is:\n",
    "\n",
    "Turn 1: Attack, reducing the knight's health to 11. Then the knight attacks and reduces your health to 6.\n",
    "Turn 2: Attack, reducing the knight's health to 6. Then the knight attacks and reduces your health to 1.\n",
    "Turn 3: Cure, restoring your health to 11. Then the knight attacks and reduces your health to 6. (If you had attacked instead this turn, the knight's next attack would have caused you to lose.)\n",
    "Turn 4: Attack, reducing the knight's health to 1. Then the knight attacks and reduces your health to 1.\n",
    "Turn 5: Attack, reducing the knight's health to -4. You instantly win and the knight does not get another attack.\n",
    "In Case #2, one possible optimal sequence of actions is:\n",
    "\n",
    "Turn 1: Buff, increasing your attack power to 3. Then the knight attacks and reduces your health to 1.\n",
    "Turn 2: Attack, reducing the knight's health to 0. You instantly win and the knight does not get another attack.\n",
    "In Case #3, the knight only needs two attacks to defeat you, and you cannot do enough damage fast enough to defeat the knight. You can indefinitely extend the combat by executing the Cure action after every attack, but it is impossible to actually defeat the knight.\n",
    "\n",
    "In Case #4, one possible optimal sequence of actions is: Attack, Debuff, Buff, Attack, Attack."
   ]
  },
  {
   "cell_type": "markdown",
   "metadata": {
    "hidden": true,
    "run_control": {
     "frozen": false,
     "read_only": false
    }
   },
   "source": [
    "### Solution\n",
    "This is more complicated than I intially realized. The attack/buff part is fairly simple because you can do all of your buffs first then all of your attacks, but the heal/debuff part is tricky because as you're doing the debuffing turns, the knight is still attacking you. This means you can't think of all debuffs you want to do as being applied to all attacks; you'll gradually build up your debuffs and many attacks may be partially debuffed. That means that you'll have to heal more often when attacks are partially debuffed than one they are completely debuffed, so calculating how many turns of healing you require when the knight is continually doing less damage is more difficult."
   ]
  },
  {
   "cell_type": "code",
   "execution_count": 108,
   "metadata": {
    "hidden": true,
    "run_control": {
     "frozen": false,
     "read_only": false
    }
   },
   "outputs": [
    {
     "name": "stdout",
     "output_type": "stream",
     "text": [
      "4\r\n",
      "11 5 16 5 0 0\r\n",
      "3 1 3 2 2 0\r\n",
      "3 1 3 2 1 0\r\n",
      "2 1 5 1 1 1"
     ]
    }
   ],
   "source": [
    "problem_name = \"play_dragon\"\n",
    "example = \"\"\"4\n",
    "11 5 16 5 0 0\n",
    "3 1 3 2 2 0\n",
    "3 1 3 2 1 0\n",
    "2 1 5 1 1 1\"\"\"\n",
    "\n",
    "write_example_file(problem_name, example)\n",
    "! cat play_dragon_ex.in"
   ]
  },
  {
   "cell_type": "code",
   "execution_count": 111,
   "metadata": {
    "hidden": true,
    "run_control": {
     "frozen": false,
     "read_only": false
    }
   },
   "outputs": [
    {
     "data": {
      "text/html": [
       "<div>\n",
       "<table border=\"1\" class=\"dataframe\">\n",
       "  <thead>\n",
       "    <tr style=\"text-align: right;\">\n",
       "      <th></th>\n",
       "      <th>dragon_health</th>\n",
       "      <th>dragon_attack</th>\n",
       "      <th>knight_health</th>\n",
       "      <th>knight_attack</th>\n",
       "      <th>attack_buff</th>\n",
       "      <th>attack_debuff</th>\n",
       "    </tr>\n",
       "  </thead>\n",
       "  <tbody>\n",
       "    <tr>\n",
       "      <th>0</th>\n",
       "      <td>11</td>\n",
       "      <td>5</td>\n",
       "      <td>16</td>\n",
       "      <td>5</td>\n",
       "      <td>0</td>\n",
       "      <td>0</td>\n",
       "    </tr>\n",
       "    <tr>\n",
       "      <th>1</th>\n",
       "      <td>3</td>\n",
       "      <td>1</td>\n",
       "      <td>3</td>\n",
       "      <td>2</td>\n",
       "      <td>2</td>\n",
       "      <td>0</td>\n",
       "    </tr>\n",
       "    <tr>\n",
       "      <th>2</th>\n",
       "      <td>3</td>\n",
       "      <td>1</td>\n",
       "      <td>3</td>\n",
       "      <td>2</td>\n",
       "      <td>1</td>\n",
       "      <td>0</td>\n",
       "    </tr>\n",
       "    <tr>\n",
       "      <th>3</th>\n",
       "      <td>2</td>\n",
       "      <td>1</td>\n",
       "      <td>5</td>\n",
       "      <td>1</td>\n",
       "      <td>1</td>\n",
       "      <td>1</td>\n",
       "    </tr>\n",
       "  </tbody>\n",
       "</table>\n",
       "</div>"
      ],
      "text/plain": [
       "   dragon_health  dragon_attack  knight_health  knight_attack  attack_buff  \\\n",
       "0             11              5             16              5            0   \n",
       "1              3              1              3              2            2   \n",
       "2              3              1              3              2            1   \n",
       "3              2              1              5              1            1   \n",
       "\n",
       "   attack_debuff  \n",
       "0              0  \n",
       "1              0  \n",
       "2              0  \n",
       "3              1  "
      ]
     },
     "execution_count": 111,
     "metadata": {},
     "output_type": "execute_result"
    }
   ],
   "source": [
    "size = \"ex\"\n",
    "n_cases, inputs = read_input(problem_name, size,\n",
    "                             col_names=['dragon_health', 'dragon_attack', 'knight_health', 'knight_attack',\n",
    "                                       'attack_buff', 'attack_debuff'], verbose=False)\n",
    "inputs.head()"
   ]
  },
  {
   "cell_type": "code",
   "execution_count": 144,
   "metadata": {
    "code_folding": [],
    "hidden": true,
    "run_control": {
     "frozen": false,
     "read_only": false
    }
   },
   "outputs": [
    {
     "name": "stdout",
     "output_type": "stream",
     "text": [
      "buffing 3\n",
      "attack 2.0\n",
      "death 2.0\n",
      "kill in 2\n",
      "IMPOSSIBLE\n"
     ]
    }
   ],
   "source": [
    "case_num = 2\n",
    "dragon_health, dragon_attack, knight_health, knight_attack, buff, debuff = inputs.iloc[case_num - 1]\n",
    "\n",
    "n_total_turns = 0\n",
    "\n",
    "### ATTACK + BUFF\n",
    "# Faster way to do this than increasing by attack_buff once at a time? a way to divide the knight's health to\n",
    "# find in one go the number of times to buff?\n",
    "\n",
    "n_attack_turns = np.ceil(knight_health / dragon_attack)\n",
    "\n",
    "if attack_buff > 0:\n",
    "    while np.ceil(knight_health / (dragon_attack + buff)) + 1 < n_attack_turns: # worth it to buff\n",
    "        n_attack_turns = np.ceil(knight_health / (dragon_attack + buff)) + 1\n",
    "        dragon_attack += buff\n",
    "        print(\"buffing\", dragon_attack)\n",
    "\n",
    "print(\"attack\", n_attack_turns)\n",
    "n_total_turns += n_attack_turns\n",
    "\n",
    "### HEAL + DEBUFF\n",
    "# if I would die at the end of 3 turns of being attacked, I have to heal on my third turn\n",
    "# I'll get attacked on the third turn anyway (and on each turn I heal), so I'll have to heal\n",
    "# every (3 - 1) = 2 turns from now on (that is, for (3 - 2) = 1 turn of attacking, I'll also do 1 turn of healing)\n",
    "# note that, in the group of attack turns where you kill the knight, you won't need a heal after (because he's\n",
    "# dead) or before (because you're going to attack before he does and kill him before he'd finish you off)\n",
    "# if there are k turns until he'd kill you and you need X turns to kill him, solve for n:\n",
    "# n * (k - 2) + (k - 1) = X; then the number of healing turns is\n",
    "# ceil(n) - 2 + 1; +1 is the heal associated with (k - 1) of attacking; -2 is removing the before/after heals from\n",
    "# your killing set of attacks (could think of the set as being a single attack that does as much damage as each\n",
    "# set of attacks, if that makes it clearer why you can remove the before and after heals); we ceil(n) because we\n",
    "# need an int and then we can always subtract 2 because n is as if we had counted a heal for after the final set\n",
    "# of attacks\n",
    "\n",
    "dragon_death_turns = np.ceil(dragon_health / knight_attack)\n",
    "print('death', dragon_death_turns)\n",
    "\n",
    "# special cases that don't work with the formula below\n",
    "n_heal_turns = 0\n",
    "if dragon_death_turns == 1:\n",
    "    if n_attack_turns == 1:\n",
    "        print('kill in 1')\n",
    "    elif debuff > 0:\n",
    "        debuffed_death_turns = np.ceil(dragon_health / (knight_attack - debuff))\n",
    "        if debuffed_death_turns == 1:\n",
    "            print(\"IMPOSSIBLE!\")\n",
    "        else: # let == 2 or something below handle it\n",
    "            dragon_death_turns = debuffed_death_turns\n",
    "            n_heal_turns += 1\n",
    "\n",
    "if dragon_death_turns == 2:\n",
    "    if n_attack_turns == 2:\n",
    "        print('kill in 2')\n",
    "    elif debuff > 0:\n",
    "        pass\n",
    "\n",
    "n_heal_turns += np.ceil((n_attack_turns - (dragon_death_turns - 1)) / (dragon_death_turns - 2)) - 1\n",
    "\n",
    "if debuff > 0:\n",
    "    debuffed_death_turns = np.ceil(dragon_health / (knight_attack - debuff))\n",
    "    debuffed_heal_turns = np.ceil((n_attack_turns - (debuffed_death_turns - 1)) / (debuffed_death_turns - 2))\n",
    "    while debuffed_heal_turns < n_heal_turns:\n",
    "        n_heal_turns = debuffed_heal_turns\n",
    "        knight_attack -= debuff\n",
    "        debuffed_death_turns = np.ceil(dragon_health / (knight_attack - debuff))\n",
    "        debuffed_heal_turns = np.ceil((n_attack_turns - (debuffed_death_turns - 1)) / (debuffed_death_turns - 2))\n",
    "        print(\"debuffing\")\n",
    "\n",
    "if n_heal_turns == float('inf'):\n",
    "    # this means that dragon_death_turns\n",
    "    print(\"IMPOSSIBLE\")\n",
    "else:\n",
    "    print(\"heal\", n_heal_turns)\n",
    "    n_total_turns += n_heal_turns\n",
    "    print('total', n_total_turns)"
   ]
  },
  {
   "cell_type": "code",
   "execution_count": 128,
   "metadata": {
    "hidden": true,
    "run_control": {
     "frozen": false,
     "read_only": false
    }
   },
   "outputs": [
    {
     "data": {
      "text/plain": [
       "dragon_health    11\n",
       "dragon_attack     5\n",
       "knight_health    16\n",
       "knight_attack     5\n",
       "attack_buff       0\n",
       "attack_debuff     0\n",
       "Name: 0, dtype: int64"
      ]
     },
     "execution_count": 128,
     "metadata": {},
     "output_type": "execute_result"
    }
   ],
   "source": [
    "x = inputs.iloc[0]\n",
    "x"
   ]
  },
  {
   "cell_type": "code",
   "execution_count": 130,
   "metadata": {
    "hidden": true,
    "run_control": {
     "frozen": false,
     "read_only": false
    }
   },
   "outputs": [
    {
     "name": "stdout",
     "output_type": "stream",
     "text": [
      "11 5 16 5 0 0\n"
     ]
    }
   ],
   "source": [
    "def f(a,s,d,f,g,h):\n",
    "    print(a,s,d,f,g,h)\n",
    "f(*x)"
   ]
  },
  {
   "cell_type": "code",
   "execution_count": 133,
   "metadata": {
    "collapsed": true,
    "hidden": true,
    "run_control": {
     "frozen": false,
     "read_only": false
    }
   },
   "outputs": [],
   "source": [
    "def count_turns(dragon_health, dragon_attack, knight_health, knight_attack, buff, debuff):\n",
    "    \"\"\"\n",
    "    ### ATTACK + BUFF\n",
    "# Faster way to do this than increasing by attack_buff once at a time? a way to divide the knight's health to\n",
    "# find in one go the number of times to buff?\n",
    "\n",
    "    ### HEAL + DEBUFF\n",
    "# if I would die at the end of 3 turns of being attacked, I have to heal on my third turn\n",
    "# I'll get attacked on the third turn anyway (and on each turn I heal), so I'll have to heal\n",
    "# every (3 - 1) = 2 turns from now on (that is, for (3 - 2) = 1 turn of attacking, I'll also do 1 turn of healing)\n",
    "# note that, in the group of attack turns where you kill the knight, you won't need a heal after (because he's\n",
    "# dead) or before (because you're going to attack before he does and kill him before he'd finish you off)\n",
    "# if there are k turns until he'd kill you and you need X turns to kill him, solve for n:\n",
    "# n * (k - 2) + (k - 1) = X; then the number of healing turns is\n",
    "# ceil(n) - 2 + 1; +1 is the heal associated with (k - 1) of attacking; -2 is removing the before/after heals from\n",
    "# your killing set of attacks (could think of the set as being a single attack that does as much damage as each\n",
    "# set of attacks, if that makes it clearer why you can remove the before and after heals); we ceil(n) because we\n",
    "# need an int and then we can always subtract 2 because n is as if we had counted a heal for after the final set\n",
    "# of attacks\n",
    "    \"\"\"\n",
    "\n",
    "    n_total_turns = 0\n",
    "\n",
    "    ### Attack + Buff\n",
    "    n_attack_turns = np.ceil(knight_health / dragon_attack)\n",
    "\n",
    "    if attack_buff > 0:\n",
    "        while np.ceil(knight_health / (dragon_attack + buff)) + 1 < n_attack_turns: # worth it to buff\n",
    "            n_attack_turns = np.ceil(knight_health / (dragon_attack + buff)) + 1\n",
    "            dragon_attack += buff\n",
    "\n",
    "    n_total_turns += n_attack_turns\n",
    "\n",
    "    ### Heal + Debuff\n",
    "    dragon_death_turns = np.ceil(dragon_health / knight_attack)\n",
    "\n",
    "    n_heal_turns = np.ceil((n_attack_turns - (dragon_death_turns - 1)) / (dragon_death_turns - 2)) - 1\n",
    "\n",
    "    if debuff > 0:\n",
    "        debuffed_death_turns = np.ceil(dragon_health / (knight_attack - debuff))\n",
    "        debuffed_heal_turns = np.ceil((n_attack_turns - (debuffed_death_turns - 1)) / (debuffed_death_turns - 2))\n",
    "        while debuffed_heal_turns < n_heal_turns:\n",
    "            n_heal_turns = debuffed_heal_turns\n",
    "            knight_attack -= debuff\n",
    "            debuffed_death_turns = np.ceil(dragon_health / (knight_attack - debuff))\n",
    "            debuffed_heal_turns = np.ceil((n_attack_turns - (debuffed_death_turns - 1)) / (debuffed_death_turns - 2))\n",
    "\n",
    "    if n_heal_turns == float('inf'):\n",
    "        return \"IMPOSSIBLE\"\n",
    "    else:\n",
    "        n_total_turns += n_heal_turns\n",
    "        return n_total_turns"
   ]
  },
  {
   "cell_type": "code",
   "execution_count": 137,
   "metadata": {
    "hidden": true,
    "run_control": {
     "frozen": false,
     "read_only": false
    }
   },
   "outputs": [
    {
     "name": "stdout",
     "output_type": "stream",
     "text": [
      "   case number           0\n",
      "0  Case    #1:           5\n",
      "1  Case    #2:  IMPOSSIBLE\n",
      "2  Case    #3:  IMPOSSIBLE\n",
      "3  Case    #4:  IMPOSSIBLE\n",
      "case      object\n",
      "number    object\n",
      "0         object\n",
      "dtype: object\n"
     ]
    }
   ],
   "source": [
    "write_output(inputs, count_turns, problem_name, size, expand_inputs=True)"
   ]
  },
  {
   "cell_type": "code",
   "execution_count": null,
   "metadata": {
    "collapsed": true,
    "hidden": true,
    "run_control": {
     "frozen": false,
     "read_only": false
    }
   },
   "outputs": [],
   "source": []
  }
 ],
 "metadata": {
  "kernelspec": {
   "display_name": "Python 3",
   "language": "python",
   "name": "python3"
  },
  "language_info": {
   "codemirror_mode": {
    "name": "ipython",
    "version": 3
   },
   "file_extension": ".py",
   "mimetype": "text/x-python",
   "name": "python",
   "nbconvert_exporter": "python",
   "pygments_lexer": "ipython3",
   "version": "3.6.1"
  },
  "latex_envs": {
   "LaTeX_envs_menu_present": true,
   "autocomplete": true,
   "bibliofile": "biblio.bib",
   "cite_by": "apalike",
   "current_citInitial": 1,
   "eqLabelWithNumbers": true,
   "eqNumInitial": 0,
   "hotkeys": {
    "equation": "Ctrl-E",
    "itemize": "Ctrl-I"
   },
   "labels_anchors": false,
   "latex_user_defs": false,
   "report_style_numbering": false,
   "user_envs_cfg": false
  },
  "toc": {
   "colors": {
    "hover_highlight": "#DAA520",
    "running_highlight": "#FF0000",
    "selected_highlight": "#FFD700"
   },
   "moveMenuLeft": true,
   "nav_menu": {
    "height": "264px",
    "width": "252px"
   },
   "navigate_menu": true,
   "number_sections": true,
   "sideBar": true,
   "threshold": 4,
   "toc_cell": true,
   "toc_section_display": "block",
   "toc_window_display": false,
   "widenNotebook": false
  }
 },
 "nbformat": 4,
 "nbformat_minor": 2
}
