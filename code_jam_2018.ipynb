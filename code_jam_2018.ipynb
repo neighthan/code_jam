{
 "cells": [
  {
   "cell_type": "markdown",
   "metadata": {
    "toc": "true"
   },
   "source": [
    " # Table of Contents\n",
    "<div class=\"toc\" style=\"margin-top: 1em;\"><ul class=\"toc-item\" id=\"toc-level0\"><li><span><a href=\"http://localhost:7000/notebooks/code_jam_2018.ipynb#Round-1\" data-toc-modified-id=\"Round-1-1\"><span class=\"toc-item-num\">1&nbsp;&nbsp;</span>Round 1</a></span><ul class=\"toc-item\"><li><span><a href=\"http://localhost:7000/notebooks/code_jam_2018.ipynb#Saving-the-Universe-Again\" data-toc-modified-id=\"Saving-the-Universe-Again-1.1\"><span class=\"toc-item-num\">1.1&nbsp;&nbsp;</span>Saving the Universe Again</a></span><ul class=\"toc-item\"><li><span><a href=\"http://localhost:7000/notebooks/code_jam_2018.ipynb#Problem-Description\" data-toc-modified-id=\"Problem-Description-1.1.1\"><span class=\"toc-item-num\">1.1.1&nbsp;&nbsp;</span>Problem Description</a></span></li><li><span><a href=\"http://localhost:7000/notebooks/code_jam_2018.ipynb#Solution\" data-toc-modified-id=\"Solution-1.1.2\"><span class=\"toc-item-num\">1.1.2&nbsp;&nbsp;</span>Solution</a></span></li></ul></li><li><span><a href=\"http://localhost:7000/notebooks/code_jam_2018.ipynb#Trouble-Sort\" data-toc-modified-id=\"Trouble-Sort-1.2\"><span class=\"toc-item-num\">1.2&nbsp;&nbsp;</span>Trouble Sort</a></span><ul class=\"toc-item\"><li><span><a href=\"http://localhost:7000/notebooks/code_jam_2018.ipynb#Problem-Description\" data-toc-modified-id=\"Problem-Description-1.2.1\"><span class=\"toc-item-num\">1.2.1&nbsp;&nbsp;</span>Problem Description</a></span></li><li><span><a href=\"http://localhost:7000/notebooks/code_jam_2018.ipynb#Solution\" data-toc-modified-id=\"Solution-1.2.2\"><span class=\"toc-item-num\">1.2.2&nbsp;&nbsp;</span>Solution</a></span></li></ul></li><li><span><a href=\"http://localhost:7000/notebooks/code_jam_2018.ipynb#Go,-Gopher!\" data-toc-modified-id=\"Go,-Gopher!-1.3\"><span class=\"toc-item-num\">1.3&nbsp;&nbsp;</span>Go, Gopher!</a></span><ul class=\"toc-item\"><li><span><a href=\"http://localhost:7000/notebooks/code_jam_2018.ipynb#Problem-Description\" data-toc-modified-id=\"Problem-Description-1.3.1\"><span class=\"toc-item-num\">1.3.1&nbsp;&nbsp;</span>Problem Description</a></span></li><li><span><a href=\"http://localhost:7000/notebooks/code_jam_2018.ipynb#Solution\" data-toc-modified-id=\"Solution-1.3.2\"><span class=\"toc-item-num\">1.3.2&nbsp;&nbsp;</span>Solution</a></span></li></ul></li><li><span><a href=\"http://localhost:7000/notebooks/code_jam_2018.ipynb#Cubic-UFO\" data-toc-modified-id=\"Cubic-UFO-1.4\"><span class=\"toc-item-num\">1.4&nbsp;&nbsp;</span>Cubic UFO</a></span><ul class=\"toc-item\"><li><span><a href=\"http://localhost:7000/notebooks/code_jam_2018.ipynb#Problem-Description\" data-toc-modified-id=\"Problem-Description-1.4.1\"><span class=\"toc-item-num\">1.4.1&nbsp;&nbsp;</span>Problem Description</a></span></li><li><span><a href=\"http://localhost:7000/notebooks/code_jam_2018.ipynb#Solution\" data-toc-modified-id=\"Solution-1.4.2\"><span class=\"toc-item-num\">1.4.2&nbsp;&nbsp;</span>Solution</a></span></li></ul></li></ul></li></ul></div>"
   ]
  },
  {
   "cell_type": "code",
   "execution_count": 1,
   "metadata": {
    "ExecuteTime": {
     "end_time": "2018-04-07T07:08:57.664898Z",
     "start_time": "2018-04-07T07:08:57.049374Z"
    },
    "init_cell": true
   },
   "outputs": [],
   "source": [
    "from typing import List\n",
    "from utils import write_example_files, read_input_file, make_solution_file, check_solution\n",
    "\n",
    "year = '2018'"
   ]
  },
  {
   "cell_type": "markdown",
   "metadata": {},
   "source": [
    "# Round 1"
   ]
  },
  {
   "cell_type": "markdown",
   "metadata": {
    "heading_collapsed": true
   },
   "source": [
    "## Saving the Universe Again"
   ]
  },
  {
   "cell_type": "markdown",
   "metadata": {
    "hidden": true
   },
   "source": [
    "### Problem Description\n",
    "\n",
    "An alien robot is threatening the universe, using a beam that will destroy all algorithms knowledge. We have to stop it!\n",
    "\n",
    "Fortunately, we understand how the robot works. It starts off with a beam with a strength of 1, and it will run a program that is a series of instructions, which will be executed one at a time, in left to right order. Each instruction is of one of the following two types:\n",
    "\n",
    "C (for \"charge\"): Double the beam's strength.\n",
    "S (for \"shoot\"): Shoot the beam, doing damage equal to the beam's current strength.\n",
    "For example, if the robot's program is SCCSSC, the robot will do the following when the program runs:\n",
    "\n",
    "Shoot the beam, doing 1 damage.\n",
    "Charge the beam, doubling the beam's strength to 2.\n",
    "Charge the beam, doubling the beam's strength to 4.\n",
    "Shoot the beam, doing 4 damage.\n",
    "Shoot the beam, doing 4 damage.\n",
    "Charge the beam, increasing the beam's strength to 8.\n",
    "In that case, the program would do a total of 9 damage.\n",
    "\n",
    "The universe's top algorithmists have developed a shield that can withstand a maximum total of D damage. But the robot's current program might do more damage than that when it runs.\n",
    "\n",
    "The President of the Universe has volunteered to fly into space to hack the robot's program before the robot runs it. The only way the President can hack (without the robot noticing) is by swapping two adjacent instructions. For example, the President could hack the above program once by swapping the third and fourth instructions to make it SCSCSC. This would reduce the total damage to 7. Then, for example, the president could hack the program again to make it SCSSCC, reducing the damage to 5, and so on.\n",
    "\n",
    "To prevent the robot from getting too suspicious, the President does not want to hack too many times. What is this smallest possible number of hacks which will ensure that the program does no more than D total damage, if it is possible to do so?\n",
    "\n",
    "Input\n",
    "The first line of the input gives the number of test cases, T. T test cases follow. Each consists of one line containing an integer D and a string P: the maximum total damage our shield can withstand, and the robot's program.\n",
    "\n",
    "Output\n",
    "For each test case, output one line containing Case #x: y, where x is the test case number (starting from 1) and y is either the minimum number of hacks needed to accomplish the goal, or IMPOSSIBLE if it is not possible.\n",
    "\n",
    "Limits\n",
    "1 ≤ T ≤ 100.\n",
    "1 ≤ D ≤ 109.\n",
    "2 ≤ length of P ≤ 30.\n",
    "Every character in P is either C or S.\n",
    "Time limit: 20 seconds per test set.\n",
    "Memory limit: 1GB.\n",
    "\n",
    "Test set 1 (Visible)\n",
    "The robot's program contains either zero or one C characters.\n",
    "\n",
    "Test set 2 (Hidden)\n",
    "No additional restrictions to the Limits section.\n",
    "\n",
    "Sample\n",
    "\n",
    "Input | Output\n",
    "---|\n",
    "6 |\n",
    "1 CS | Case #1: 1  \n",
    "2 CS | Case #2: 0  \n",
    "1 SS | Case #3: IMPOSSIBLE  \n",
    "6 SCCSSC | Case #4: 2  \n",
    "2 CC | Case #5: 0  \n",
    "3 CSCSS | Case #6: 5\n",
    "\n",
    "\n",
    "\n",
    "\n",
    "\n",
    "\n",
    "\n",
    "\n",
    "Note that the last three sample cases would not appear in test set 1.\n",
    "\n",
    "In Sample Case #1, the President can swap the two instructions to reduce the total damage to 1, which the shield can withstand.\n",
    "\n",
    "In Sample Case #2, the President does not need to hack the program at all, since the shield can already withstand the 2 total damage it will cause.\n",
    "\n",
    "In Sample Case #3, the program will do more damage than the shield can withstand, and hacking will do nothing to change this. The universe is doomed.\n",
    "\n",
    "Sample Case #4 uses the program described in the problem statement. The statement demonstrates one way to reduce the total damage to 5 using two hacks. It is not possible to reduce the damage to 6 or less by using only one hack; remember that the President can only swap adjacent instructions.\n",
    "\n",
    "In Sample Case #5, the robot will never shoot, and so it will never do any damage. No hacking is required.\n",
    "\n",
    "In Sample Case #6, five hacks are required. Notice that even if two hacks swap the instructions at the same two positions, they still count as separate hacks."
   ]
  },
  {
   "cell_type": "markdown",
   "metadata": {
    "hidden": true
   },
   "source": [
    "### Solution\n",
    "To reduce the damage done, we want to do more of the shots before charging. Thus we need to move the 'S's before the 'C's. Since we want to minimize the number of hacks, we should always move first that 'S' which takes the fewest moves to swap order with a 'C'."
   ]
  },
  {
   "cell_type": "code",
   "execution_count": 2,
   "metadata": {
    "ExecuteTime": {
     "end_time": "2018-04-07T05:09:02.861339Z",
     "start_time": "2018-04-07T05:09:02.631706Z"
    },
    "hidden": true
   },
   "outputs": [
    {
     "name": "stdout",
     "output_type": "stream",
     "text": [
      "6\r\n",
      "1 CS\r\n",
      "2 CS\r\n",
      "1 SS\r\n",
      "6 SCCSSC\r\n",
      "2 CC\r\n",
      "3 CSCSS"
     ]
    }
   ],
   "source": [
    "## write out a tiny example file\n",
    "problem_name = 'save_universe'\n",
    "ex_inputs = \"\"\"6\n",
    "1 CS\n",
    "2 CS\n",
    "1 SS\n",
    "6 SCCSSC\n",
    "2 CC\n",
    "3 CSCSS\"\"\"\n",
    "\n",
    "ex_outputs = \"\"\"Case #1: 1\n",
    "Case #2: 0\n",
    "Case #3: IMPOSSIBLE\n",
    "Case #4: 2\n",
    "Case #5: 0\n",
    "Case #6: 5\"\"\"\n",
    "\n",
    "write_example_files(year, problem_name, ex_inputs, ex_outputs)\n",
    "! cat data/$year/$problem_name\\_ex.in"
   ]
  },
  {
   "cell_type": "code",
   "execution_count": 3,
   "metadata": {
    "ExecuteTime": {
     "end_time": "2018-04-07T05:09:03.049700Z",
     "start_time": "2018-04-07T05:09:03.015370Z"
    },
    "hidden": true
   },
   "outputs": [
    {
     "data": {
      "text/html": [
       "<div>\n",
       "<style>\n",
       "    .dataframe thead tr:only-child th {\n",
       "        text-align: right;\n",
       "    }\n",
       "\n",
       "    .dataframe thead th {\n",
       "        text-align: left;\n",
       "    }\n",
       "\n",
       "    .dataframe tbody tr th {\n",
       "        vertical-align: top;\n",
       "    }\n",
       "</style>\n",
       "<table border=\"1\" class=\"dataframe\">\n",
       "  <thead>\n",
       "    <tr style=\"text-align: right;\">\n",
       "      <th></th>\n",
       "      <th>shield_strength</th>\n",
       "      <th>actions</th>\n",
       "    </tr>\n",
       "  </thead>\n",
       "  <tbody>\n",
       "    <tr>\n",
       "      <th>0</th>\n",
       "      <td>1</td>\n",
       "      <td>CS</td>\n",
       "    </tr>\n",
       "    <tr>\n",
       "      <th>1</th>\n",
       "      <td>2</td>\n",
       "      <td>CS</td>\n",
       "    </tr>\n",
       "    <tr>\n",
       "      <th>2</th>\n",
       "      <td>1</td>\n",
       "      <td>SS</td>\n",
       "    </tr>\n",
       "    <tr>\n",
       "      <th>3</th>\n",
       "      <td>6</td>\n",
       "      <td>SCCSSC</td>\n",
       "    </tr>\n",
       "    <tr>\n",
       "      <th>4</th>\n",
       "      <td>2</td>\n",
       "      <td>CC</td>\n",
       "    </tr>\n",
       "  </tbody>\n",
       "</table>\n",
       "</div>"
      ],
      "text/plain": [
       "   shield_strength actions\n",
       "0                1      CS\n",
       "1                2      CS\n",
       "2                1      SS\n",
       "3                6  SCCSSC\n",
       "4                2      CC"
      ]
     },
     "execution_count": 3,
     "metadata": {},
     "output_type": "execute_result"
    }
   ],
   "source": [
    "col_names = ['shield_strength', 'actions']\n",
    "\n",
    "n_cases, inputs = read_input_file(year, problem_name, col_names=col_names)\n",
    "inputs.head()"
   ]
  },
  {
   "cell_type": "code",
   "execution_count": 4,
   "metadata": {
    "ExecuteTime": {
     "end_time": "2018-04-07T05:09:03.521566Z",
     "start_time": "2018-04-07T05:09:03.489367Z"
    },
    "collapsed": true,
    "hidden": true
   },
   "outputs": [],
   "source": [
    "def calculate_damage(actions: str) -> int:\n",
    "    \"\"\"Calculate the damage done by the robot if it performs `actions`\"\"\"\n",
    "    damage = 0\n",
    "    beam_strength = 1\n",
    "    for action in actions:\n",
    "        if action == 'C':\n",
    "            beam_strength *= 2\n",
    "        else:\n",
    "            assert action == 'S'\n",
    "            damage += beam_strength\n",
    "    return damage"
   ]
  },
  {
   "cell_type": "code",
   "execution_count": 5,
   "metadata": {
    "ExecuteTime": {
     "end_time": "2018-04-07T05:09:04.194888Z",
     "start_time": "2018-04-07T05:09:04.166348Z"
    },
    "collapsed": true,
    "hidden": true
   },
   "outputs": [],
   "source": [
    "def count_hacks(shield_strength: str, actions: str) -> int:\n",
    "    \"\"\"Count the minimum number of hacks to survive the attacks.\"\"\"\n",
    "    shield_strength = int(shield_strength)\n",
    "\n",
    "    damage = calculate_damage(actions)\n",
    "    n_hacks = 0\n",
    "\n",
    "    if sum([action == 'S' for action in actions]) > shield_strength:\n",
    "        # even if all shots come before any charges, still too much damage\n",
    "        return 'IMPOSSIBLE'\n",
    "\n",
    "    while damage > shield_strength:\n",
    "        for i in range(len(actions) - 1, 0, -1):\n",
    "            if actions[i - 1] == 'C' and actions[i] == 'S':\n",
    "                n_hacks += 1\n",
    "                actions = actions[:i - 1] + 'SC' + actions[i + 1:]\n",
    "                break\n",
    "        damage = calculate_damage(actions)\n",
    "    \n",
    "    return n_hacks"
   ]
  },
  {
   "cell_type": "code",
   "execution_count": 8,
   "metadata": {
    "ExecuteTime": {
     "end_time": "2018-04-07T05:09:47.324884Z",
     "start_time": "2018-04-07T05:09:47.315012Z"
    },
    "hidden": true
   },
   "outputs": [],
   "source": [
    "make_solution_file([count_hacks, calculate_damage])"
   ]
  },
  {
   "cell_type": "code",
   "execution_count": 9,
   "metadata": {
    "ExecuteTime": {
     "end_time": "2018-04-07T05:09:47.810288Z",
     "start_time": "2018-04-07T05:09:47.688446Z"
    },
    "hidden": true
   },
   "outputs": [],
   "source": [
    "check_solution(year, problem_name)"
   ]
  },
  {
   "cell_type": "markdown",
   "metadata": {},
   "source": [
    "## Trouble Sort"
   ]
  },
  {
   "cell_type": "markdown",
   "metadata": {},
   "source": [
    "### Problem Description\n",
    "\n",
    "Deep in Code Jam's secret algorithm labs, we devote countless hours to wrestling with one of the most complex problems of our time: efficiently sorting a list of integers into non-decreasing order. We have taken a careful look at the classic bubble sort algorithm, and we are pleased to announce a new variant.\n",
    "\n",
    "The basic operation of the standard bubble sort algorithm is to examine a pair of adjacent numbers, and reverse that pair if the left number is larger than the right number. But our algorithm examines a group of three adjacent numbers, and if the leftmost number is larger than the rightmost number, it reverses that entire group. Because our algorithm is a \"triplet bubble sort\", we have named it Trouble Sort for short.\n",
    "\n",
    "  TroubleSort(L): // L is a 0-indexed list of integers\n",
    "    let done := false\n",
    "    while not done:\n",
    "      done = true\n",
    "      for i := 0; i < len(L)-2; i++:\n",
    "        if L[i] > L[i+2]:\n",
    "          done = false\n",
    "          reverse the sublist from L[i] to L[i+2], inclusive\n",
    "For example, for L = 5 6 6 4 3, Trouble Sort would proceed as follows:\n",
    "\n",
    "First pass:\n",
    "inspect 5 6 6, do nothing: 5 6 6 4 3\n",
    "inspect 6 6 4, see that 6 > 4, reverse the triplet: 5 4 6 6 3\n",
    "inspect 6 6 3, see that 6 > 3, reverse the triplet: 5 4 3 6 6\n",
    "Second pass:\n",
    "inspect 5 4 3, see that 5 > 3, reverse the triplet: 3 4 5 6 6\n",
    "inspect 4 5 6, do nothing: 3 4 5 6 6\n",
    "inspect 5 6 6, do nothing: 3 4 5 6 6\n",
    "Then the third pass inspects the three triplets and does nothing, so the algorithm terminates.\n",
    "We were looking forward to presenting Trouble Sort at the Special Interest Group in Sorting conference in Hawaii, but one of our interns has just pointed out a problem: it is possible that Trouble Sort does not correctly sort the list! Consider the list 8 9 7, for example.\n",
    "\n",
    "We need your help with some further research. Given a list of N integers, determine whether Trouble Sort will successfully sort the list into non-decreasing order. If it will not, find the index (counting starting from 0) of the first sorting error after the algorithm has finished: that is, the first value that is larger than the value that comes directly after it when the algorithm is done.\n",
    "\n",
    "Input\n",
    "The first line of the input gives the number of test cases, T. T test cases follow. Each test case consists of two lines: one line with an integer N, the number of values in the list, and then another line with N integers Vi, the list of values.\n",
    "\n",
    "Output\n",
    "For each test case, output one line containing Case #x: y, where x is the test case number (starting from 1) and y is OK if Trouble Sort correctly sorts the list, or the index (counting starting from 0) of the first sorting error, as described above.\n",
    "\n",
    "Limits\n",
    "1 ≤ T ≤ 100.\n",
    "0 ≤ Vi ≤ 109, for all i.\n",
    "Memory limit: 1GB.\n",
    "\n",
    "Test set 1 (Visible)\n",
    "3 ≤ N ≤ 100.\n",
    "Time limit (for the entire test set): 10 seconds.\n",
    "\n",
    "Test set 2 (Hidden)\n",
    "3 ≤ N ≤ 105.\n",
    "Time limit (for the entire test set): 20 seconds.\n",
    "\n",
    "Special Note\n",
    "Notice that test set 2 for this problem has a large amount of input, so using a non-buffered reader might lead to slower input reading. In addition, keep in mind that certain languages have a small input buffer size by default.\n",
    "\n",
    "Sample\n",
    "\n",
    "Input   \n",
    "2  \n",
    "5  \n",
    "5 6 8 4 3  \n",
    "3  \n",
    "8 9 7\n",
    "\n",
    "Output  \n",
    "Case #1: OK  \n",
    "Case #2: 1\n",
    "\n",
    "Sample Case #1 is similar to the first one described in the problem statement. Trouble Sort correctly sorts this list, so the answer is OK.\n",
    "\n",
    "Sample Case #2 is the second one described in the problem statement. Trouble Sort does not correctly sort this list, since it terminates with the list 7 9 8. The 9 is the first value in the list that is larger than the next value, so the index of the first sorting error is 1."
   ]
  },
  {
   "cell_type": "markdown",
   "metadata": {},
   "source": [
    "### Solution\n",
    "Because each number can only swap with a neighbor that is 2 places before or after it, the parity of the index of a number is constant (e.g. if a number starts at index 3, it will always be at an odd index). Thus we can think of trouble sort as sorting two separate lists: those with even and those with odd index parity. In this conceptual sublists, neighbors are swapped directly, so it becomes normal bubble sort. Thus these sublists will be ordered appropriately but whether the final list is ordered properly depends on whether \"zipping\" them back together still creates an ordered list.\n",
    "\n",
    "We can efficiently solve this problem by pulling out the two sublists, sorting them with a fast algorithm, then iterating through until we find anything out of order."
   ]
  },
  {
   "cell_type": "code",
   "execution_count": 14,
   "metadata": {
    "ExecuteTime": {
     "end_time": "2018-04-07T07:13:06.714713Z",
     "start_time": "2018-04-07T07:13:06.498444Z"
    }
   },
   "outputs": [
    {
     "name": "stdout",
     "output_type": "stream",
     "text": [
      "2\r\n",
      "5\r\n",
      "5 6 8 4 3\r\n",
      "3\r\n",
      "8 9 7"
     ]
    }
   ],
   "source": [
    "problem_name = 'trouble_sort'\n",
    "ex_inputs = \"\"\"2\n",
    "5\n",
    "5 6 8 4 3\n",
    "3\n",
    "8 9 7\"\"\"\n",
    "\n",
    "ex_outputs = \"\"\"Case #1: OK\n",
    "Case #2: 1\"\"\"\n",
    "\n",
    "write_example_files(year, problem_name, ex_inputs, ex_outputs)\n",
    "! cat data/$year/$problem_name\\_ex.in"
   ]
  },
  {
   "cell_type": "code",
   "execution_count": 15,
   "metadata": {
    "ExecuteTime": {
     "end_time": "2018-04-07T05:43:18.648820Z",
     "start_time": "2018-04-07T05:43:18.620791Z"
    }
   },
   "outputs": [],
   "source": [
    "def trouble_sortable(list_len: str, full_list: List[str]) -> str:\n",
    "    full_list = [int(e) for e in full_list]\n",
    "\n",
    "    even_idx_list = sorted(int(full_list[i]) for i in range(len(full_list)) if i % 2 == 0)\n",
    "    odd_idx_list = sorted(int(full_list[i]) for i in range(len(full_list)) if i % 2 == 1)\n",
    "\n",
    "    prev_num = even_idx_list[0]\n",
    "    for i in range(len(full_list) - 1):\n",
    "        next_num = even_idx_list[i // 2 + i % 2] if i % 2 == 1 else odd_idx_list[i // 2 + i % 2]\n",
    "        if prev_num > next_num:\n",
    "            return str(i)\n",
    "        else:\n",
    "            prev_num = next_num\n",
    "    return 'OK'"
   ]
  },
  {
   "cell_type": "code",
   "execution_count": 16,
   "metadata": {
    "ExecuteTime": {
     "end_time": "2018-04-07T07:09:14.377412Z",
     "start_time": "2018-04-07T07:09:14.368576Z"
    },
    "collapsed": true
   },
   "outputs": [],
   "source": [
    "make_solution_file([trouble_sortable], n_lines_per_case=2)"
   ]
  },
  {
   "cell_type": "code",
   "execution_count": 17,
   "metadata": {
    "ExecuteTime": {
     "end_time": "2018-04-07T05:43:19.614316Z",
     "start_time": "2018-04-07T05:43:19.481380Z"
    }
   },
   "outputs": [],
   "source": [
    "check_solution(year, problem_name)"
   ]
  },
  {
   "cell_type": "markdown",
   "metadata": {},
   "source": [
    "## Go, Gopher!"
   ]
  },
  {
   "cell_type": "markdown",
   "metadata": {},
   "source": [
    "### Problem Description\n",
    "\n",
    "The Code Jam team has just purchased an orchard that is a two-dimensional matrix of cells of unprepared soil, with 1000 rows and 1000 columns. We plan to use this orchard to grow a variety of trees — AVL, binary, red-black, splay, and so on — so we need to prepare some of the cells by digging holes:\n",
    "\n",
    "In order to have enough trees to use for each year's tree problems, we need there to be at least A prepared cells.\n",
    "In order to care for our trees properly, the set of all prepared cells must form a single grid-aligned rectangle in which every cell within the rectangle is prepared.\n",
    "Note that the above also implies that none of the cells outside of that rectangle can be prepared. We want the orchard to look tidy!\n",
    "\n",
    "For example, when A=11, although the eleven prepared cells in the left figure below form a 3x4 rectangle (that is, with 3 rows and 4 columns), the cell in the center of the rectangle is not prepared. As a result, we have not yet completed preparing our orchard, since not every cell of the 3x4 rectangle is prepared. However, after just preparing the center cell, the rectangle of size at least 11 is fully filled, and the orchard is ready.\n",
    "\n",
    "[figure]\n",
    "\n",
    "See below for another example. In this case, A=6. Note that the middle figure prepares a cell outside the 3x2 rectangle, so although the rightmost figure prepares a rectangle of size 6, the entire set of the prepared cells does not form a rectangle (due to the extra cell on the left). As a result, the orchard is not ready.\n",
    "\n",
    "[figure]\n",
    "\n",
    "Digging is hard work for humans, so we have borrowed the Go gopher from the Google Go team and trained it to help us out by preparing cells. We can deploy the gopher by giving it the coordinates of a target cell in the matrix that is not along any of the borders of the matrix. However, we have not yet perfected the gopher's training, so it will choose a cell uniformly at (pseudo-)random from the 3x3 block of nine cells centered on the target cell, and then prepare the cell it has chosen. (If it chooses a cell that was already prepared, it will uselessly prepare it again.)\n",
    "\n",
    "We can only deploy the gopher up to 1000 times before it gets too tired to keep digging, so we need your help in figuring out how to deploy it strategically. When you deploy the gopher, you will be told which cell the gopher actually prepared, and you can take this information into account before deploying it again, if needed. Note that you do not have to declare the dimensions or location of a rectangle in advance.\n",
    "\n",
    "Input and output\n",
    "This problem is interactive, which means that the concepts of input and output are different than in standard Code Jam problems. You will interact with a separate process that both provides you with information and evaluates your responses. All information comes into your program via standard input; anything that you need to communicate should be sent via standard output. Remember that many programming languages buffer the output by default, so make sure your output actually goes out (for instance, by flushing the buffer) before blocking to wait for a response. See the FAQ for an explanation of what it means to flush the buffer. Anything your program sends through standard error is ignored, but it might consume some memory and be counted against your memory limit, so do not overflow it. To help you debug, a local testing tool script (in Python) is provided at the very end of the problem statement. In addition, sample solutions to a previous Code Jam interactive problem (in all of our supported languages) are provided here.\n",
    "\n",
    "Initially, your program should read a single line containing a single integer T indicating the number of test cases. Then, you need to process T test cases.\n",
    "\n",
    "For each test case, your program will read a single line containing a single integer A indicating the minimum required prepared rectangular area. Then, your program will process up to 1000 exchanges with our judge.\n",
    "\n",
    "For each exchange, your program needs to use standard output to send a single line containing two integers I and J: the row and column number you want to deploy the gopher to. The two integers must be between 2 and 999, and written in base-10 without leading zeroes. If your output format is wrong (e.g., out of bounds values), your program will fail, and the judge will send you a single line with -1 -1 which signals that your test has failed, and it will not send anything to your input stream after that. Otherwise, in response to your deployment, the judge will print a single line containing two integers I' and J' to your input stream, which your program must read through standard input.\n",
    "\n",
    "If the last deployment caused the set of prepared cells to be a rectangle of area at least A, you will get I' = J' = 0, signaling the end of the test case. Otherwise, I' and J' are the row and column numbers of the cell that was actually prepared by the gopher, with abs(I'-I) ≤ 1 and abs(J'-J) ≤ 1. Then, you can start another exchange.\n",
    "\n",
    "If your program gets something wrong (e.g. wrong output format, or out-of-bounds values), as mentioned above, the judge will send I' = J' = -1, and stop sending output to your input stream afterwards. If your program continues to wait for the judge after reading in I' = J' = -1, your program will time out, resulting in a Time Limit Exceeded error. Notice that it is your responsibility to have your program exit in time to receive the appropriate verdict (Wrong Answer, Runtime Error, etc.) instead of a Time Limit Exceeded error. As usual, if the total time or memory is exceeded, or your program gets a runtime error, you will receive the appropriate verdict.\n",
    "\n",
    "If the test case is solved within 1000 deployments, you will receive the I' = J' = 0 message from the judge, as mentioned above, and then continue to solve the next test case. After 1000 exchanges, if the test case is not solved, the judge will send the I' = J' = -1 message, and stop sending output to your input stream after.\n",
    "\n",
    "You should not send additional information to the judge after solving all test cases. In other words, if your program keeps printing to standard output after receiving I' = J' = 0 message from the judge for the last test case, you will receive a Wrong Answer judgment.\n",
    "\n",
    "Please be advised that for a given test case, the cells that the gopher will pick from each 3x3 block are (pseudo-)random and independent of each other, but they are determined using the same seed each time for the same test case, so a solution that gives an incorrect result for a test case will do so consistently across all attempts for the same test case. We have also set different seeds for different test cases.\n",
    "\n",
    "Limits\n",
    "1 ≤ T ≤ 20.\n",
    "Memory limit: 1 GB.\n",
    "\n",
    "Test set 1 (Visible)\n",
    "A = 20.\n",
    "Time limit (for the entire test set): 20 seconds.\n",
    "\n",
    "Test set 2 (Hidden)\n",
    "A = 200.\n",
    "Time limit (for the entire test set): 60 seconds.\n",
    "\n",
    "Sample interaction\n",
    "  t = readline_int()         // reads 2 into t\n",
    "  a = readline_int()         // reads 3 into a\n",
    "  printline 10 10 to stdout  // sends out cell 10 10 to prepare\n",
    "  flush stdout\n",
    "  x, y = readline_two_int()  // reads 10 11, since cell 10 11 is prepared\n",
    "  printline 10 10 to stdout  // sends out cell 10 10 again to prepare\n",
    "  flush stdout\n",
    "  x, y = readline_two_int()  // reads 10 10, since cell 10 10 is prepared\n",
    "  printline 10 12 to stdout  // sends out cell 10 12 to prepare\n",
    "  flush stdout\n",
    "  x, y = readline_two_int()  // reads 10 11, since cell 10 11 is prepared again\n",
    "  printline 10 10 to stdout  // sends out cell 10 10 to prepare\n",
    "  flush stdout\n",
    "  x, y = readline_two_int()  // reads 11 10, since cell 11 10 is prepared\n",
    "  printline 11 10 to stdout  // sends out cell 11 10 to prepare\n",
    "  flush stdout\n",
    "  x, y = readline_two_int()  // reads 0 0; since cell 11 11 is prepared, a rectangle of size 4\n",
    "The pseudocode above is the first half of a sample interaction for one test set. Suppose there are only two test cases in this test set. The pseudocode first reads the number of test cases into an integer t. Then the first test case begins. For the first test case, suppose A is 3 (although, in the real test sets, A is always either 20 or 200). The pseudocode first reads the value of A into an integer a, and outputs 10 10 the location of the cell to prepare. By (pseudo-)random choice, the cell at location 10 11 is prepared, so the code reads 10 11 in response. Next, the code outputs cell 10 10 again for preparation, and the gopher prepares 10 10 this time. The code subsequently sends 10 12 with the goal of finishing preparing a rectangle of size 3, but only gets cell 10 11 prepared again. 10 10 is then sent out, and this time 11 10 is prepared. Notice that although the prepared area is of size 3, a rectangle has not been formed, so the preparation goes on. In the end, the pseudocode decides to try out cell 11 10, and 0 0 is sent back, which implies that cell 11 11 has been prepared, completing a rectangle (or square, rather) or size 4. As a result, the first test case is successfully solved.\n",
    "\n",
    "  a = readline_int()         // reads 3 into a\n",
    "  printline 10 10 to stdout  // sends out cell 10 10 to prepare\n",
    "  x, y = readline_two_int()  // does not flush stdout; hangs on the judge\n",
    "Now the pseudocode is ready for the second test case. It again first reads an integer a = 3 and decides to send cell 10 10 to prepare. However, this time, the code forgets to flush the stdout buffer! As a result, 10 10 is buffered and not sent to the judge. Both the judge and the code wait on each other, leading to a deadlock and eventually a Time Limit Exceeded error.\n",
    "\n",
    "  a = readline_int()         // reads 3 into a\n",
    "  printline 1 1 to stdout    // sends out cell 1 1 to prepare\n",
    "  x, y = readline_two_int()  // reads -1 -1, since 1 is outside the range [2, 999]\n",
    "  printline 10 10 to stdout  // sends a cell location anyway\n",
    "  x, y = readline_two_int()  // hangs since the judge stops sending info to stdin\n",
    "The code above is another example. Suppose for the second test case, the code remembers to flush the output buffer, but sends out cell 1 1 to prepare. Remember that the row and column of the chosen cell must both be in the range [2, 999], so 1 1 is illegal! As a result, the judge sends back -1 -1. However, after reading -1 -1 into x and y, the code proceeds to send another cell location to the judge, and wait. Since there is nothing in the input stream (the judge has stopped sending info), the code hangs and will eventually receive a Time Limit Exceeded error.\n",
    "\n",
    "Note that if the code in the example above exits immediately after reading -1 -1, it will receive a Wrong Answer instead:\n",
    "\n",
    "  a = readline_int()         // reads 3 into a\n",
    "  printline 1 1 to stdout    // sends out cell 1 1 to prepare\n",
    "  x, y = readline_two_int()  // reads -1 -1, since 1 is outside the range [2, 999]\n",
    "  exit                       // receives a Wrong Answer judgment\n",
    "Local Testing Tool\n",
    "To better facilitate local testing, we provide you the following script. Instructions are included inside. You are encouraged to add more test cases for better testing. Please be advised that although the testing tool is intended to simulate the judging system, it is NOT the real judging system and might behave differently.\n",
    "\n",
    "If your code passes the testing tool but fails the real judge, please check here to make sure that you are using the same compiler as us."
   ]
  },
  {
   "cell_type": "markdown",
   "metadata": {},
   "source": [
    "### Solution\n",
    "The number of cells that need preparing will never be more than 200, so we can always fill a rectangle that is 3 cells tall by however many cells wide we require (it might be a bit more efficient to actually do a square, but this way should be simpler). We can just start at (1, 1) and then move to the right whenever we've filled the leftmost 3 cells in the current block (until the current block includes the right boundary of the rectangle).\n",
    "\n",
    "Also, note that the grid is 1-indexed."
   ]
  },
  {
   "cell_type": "code",
   "execution_count": 2,
   "metadata": {
    "ExecuteTime": {
     "end_time": "2018-04-07T07:09:10.020346Z",
     "start_time": "2018-04-07T07:09:09.990541Z"
    },
    "collapsed": true
   },
   "outputs": [],
   "source": [
    "def prepare_cells() -> None:\n",
    "    import sys\n",
    "\n",
    "    n_cells_required = int(input())\n",
    "\n",
    "    target_row = 2\n",
    "    target_col = 2\n",
    "    final_col = n_cells_required // 3\n",
    "\n",
    "    cell_state = [[0] * 3 for _ in range(final_col + 1)]  # 1 if prepared\n",
    "\n",
    "    while True:\n",
    "        print(target_row, target_col, flush=True)\n",
    "        actual_row, actual_col = map(int, input().split(' '))\n",
    "\n",
    "        if actual_row == -1:  # error\n",
    "            sys.exit()\n",
    "        elif actual_row == 0:  # complete\n",
    "            return\n",
    "        else:  # some cell prepared\n",
    "            cell_state[actual_col - 1][actual_row - 1] = 1\n",
    "            if cell_state[target_col - 2][target_row - 2] == 1 and\\\n",
    "                cell_state[target_col - 2][target_row - 1] == 1 and\\\n",
    "                cell_state[target_col - 2][target_row] == 1 and target_col < final_col:\n",
    "                target_col += 1"
   ]
  },
  {
   "cell_type": "code",
   "execution_count": 3,
   "metadata": {
    "ExecuteTime": {
     "end_time": "2018-04-07T07:09:14.377412Z",
     "start_time": "2018-04-07T07:09:14.368576Z"
    },
    "collapsed": true
   },
   "outputs": [],
   "source": [
    "make_solution_file([prepare_cells], n_lines_per_case=0, print_case=False)"
   ]
  },
  {
   "cell_type": "markdown",
   "metadata": {},
   "source": [
    "## Cubic UFO"
   ]
  },
  {
   "cell_type": "markdown",
   "metadata": {},
   "source": [
    "### Problem Description\n",
    "\n",
    "A mysterious cubic alien ship has appeared in the sky over Toronto! In this problem, Toronto is a plane in three-dimensional space that is parallel to the xz plane at y = -3 km. The alien ship is a solid cube with side length 1 km, centered at (0 km, 0 km, 0 km), with its eight corners at (+/- 0.5 km, +/- 0.5 km, +/- 0.5 km). The ship is casting an ominous shadow onto the plane; formally, the shadow is the orthogonal projection of the cube onto the plane. (We consider the sun to be a point infinitely far above the Toronto plane along the y-axis.)\n",
    "\n",
    "The military is willing to tolerate the ship as long as the aliens meet their bureaucratic demand: the shadow must cover an area of the plane that is acceptably close to A km2 (see the Output section for a precise definition). They have hired you, a geometric linguistics expert, to convey this demand to the aliens. In your communications so far, you have learned that the ship cannot change size, and the center of the ship cannot move, but the ship is able to rotate arbitrarily in place.\n",
    "\n",
    "Please find a way that the aliens can rotate the ship so that the shadow's area is close to A. Express your rotation using three points: the centers of any three non-pairwise-opposing faces.\n",
    "\n",
    "Input\n",
    "The first line of the input gives the number of test cases, T. T test cases follow; each consists of one line with a rational A, the desired area of the shadow, in km2, with exactly six digits after the decimal point.\n",
    "\n",
    "It is guaranteed that there is always a way to rotate the ship in the desired manner for the values of A allowed in this problem.\n",
    "\n",
    "Output\n",
    "For each test case, first output one line containing Case #x:, where x is the test case number (starting from 1). Then, output three more lines with three rational values each: the x, y, and z coordinates of one of your three provided face-centers, as described above. You are welcome to use decimal (e.g., 0.000123456) or scientific notation (e.g., 1.23456e-4).\n",
    "\n",
    "Your answer will be considered correct if and only if all of the following are true:\n",
    "\n",
    "The distance (in km) from each point to the origin must be between 0.5 - 10-6 and 0.5 + 10-6, inclusive.\n",
    "The angles (in radians) between segments connecting the origin to each point must be between π/2 - 10-6 and π/2 + 10-6, inclusive.\n",
    "The area of the shadow (in km2), computed by projecting all 8 vertices onto the y = -3 plane and finding the area of the convex hull of those projected points, must be between A - 10-6 and A + 10-6, inclusive. We will compute the vertices as +/- p1 +/- p2 +/- p3 (that is, for each pi we add either pi or -pi to the total using vector addition), where p1, p2, and p3 are the face-centers that you provide.\n",
    "Please note that you might need to output more than 6 digits after the decimal point to safely pass the checks mentioned above. If there are multiple acceptable answers, you may output any one of them.\n",
    "\n",
    "Limits\n",
    "1 ≤ T ≤ 100.\n",
    "Time limit: 30 seconds per test set.\n",
    "Memory limit: 1GB.\n",
    "\n",
    "Test set 1 (Visible)\n",
    "1.000000 ≤ A ≤ 1.414213\n",
    "\n",
    "Test set 2 (Hidden)\n",
    "1.000000 ≤ A ≤ 1.732050\n",
    "\n",
    "Sample\n",
    "\n",
    "Input \n",
    " \t\n",
    "Output \n",
    " \n",
    "2\n",
    "1.000000\n",
    "1.414213\n",
    "\n",
    "Case #1:\n",
    "0.5 0 0\n",
    "0 0.5 0\n",
    "0 0 0.5\n",
    "Case #2:\n",
    "0.3535533905932738 0.3535533905932738 0\n",
    "-0.3535533905932738 0.3535533905932738 0\n",
    "0 0 0.5\n",
    "In Sample Case #1, there is no need to rotate the cube at all; with two of its faces already parallel to the plane, the cube is already casting a shadow that is a square with side length 1.\n",
    "\n",
    "In Sample Case #2, one possible solution is to tell the aliens to give the cube a 45 degree turn around the x = y = 0 line, creating a shadow that is a rectangle with dimensions of 1 and sqrt(2).\n",
    "\n",
    "The following rough image shows the cubes and shadows for Sample Cases #1 and #2. The sun is shown for clarity, but remember that it is actually a point infinitely far away along the y-axis.\n",
    "\n",
    "[figure]"
   ]
  },
  {
   "cell_type": "markdown",
   "metadata": {},
   "source": [
    "### Solution\n"
   ]
  },
  {
   "cell_type": "code",
   "execution_count": 4,
   "metadata": {
    "ExecuteTime": {
     "end_time": "2018-04-07T07:13:06.714713Z",
     "start_time": "2018-04-07T07:13:06.498444Z"
    }
   },
   "outputs": [
    {
     "name": "stdout",
     "output_type": "stream",
     "text": [
      "2\r\n",
      "1.000000\r\n",
      "1.414213"
     ]
    }
   ],
   "source": [
    "problem_name = 'cubic_ufo'\n",
    "ex_inputs = \"\"\"2\n",
    "1.000000\n",
    "1.414213\"\"\"\n",
    "\n",
    "ex_outputs = \"\"\"Case #1:\n",
    "0.5 0 0\n",
    "0 0.5 0\n",
    "0 0 0.5\n",
    "Case #2:\n",
    "0.3535533905932738 0.3535533905932738 0\n",
    "-0.3535533905932738 0.3535533905932738 0\n",
    "0 0 0.5\"\"\"\n",
    "\n",
    "write_example_files(year, problem_name, ex_inputs, ex_outputs)\n",
    "! cat data/$year/$problem_name\\_ex.in"
   ]
  },
  {
   "cell_type": "code",
   "execution_count": 8,
   "metadata": {
    "ExecuteTime": {
     "end_time": "2018-04-07T07:09:14.377412Z",
     "start_time": "2018-04-07T07:09:14.368576Z"
    },
    "collapsed": true
   },
   "outputs": [],
   "source": [
    "make_solution_file([])"
   ]
  },
  {
   "cell_type": "code",
   "execution_count": 9,
   "metadata": {
    "ExecuteTime": {
     "end_time": "2018-04-07T05:43:19.614316Z",
     "start_time": "2018-04-07T05:43:19.481380Z"
    },
    "collapsed": true
   },
   "outputs": [],
   "source": [
    "check_solution(year, problem_name)"
   ]
  }
 ],
 "metadata": {
  "hide_input": false,
  "kernelspec": {
   "display_name": "Python 3",
   "language": "python",
   "name": "python3"
  },
  "language_info": {
   "codemirror_mode": {
    "name": "ipython",
    "version": 3
   },
   "file_extension": ".py",
   "mimetype": "text/x-python",
   "name": "python",
   "nbconvert_exporter": "python",
   "pygments_lexer": "ipython3",
   "version": "3.6.2"
  },
  "latex_envs": {
   "LaTeX_envs_menu_present": true,
   "autocomplete": true,
   "bibliofile": "biblio.bib",
   "cite_by": "apalike",
   "current_citInitial": 1,
   "eqLabelWithNumbers": true,
   "eqNumInitial": 0,
   "hotkeys": {
    "equation": "Ctrl-E",
    "itemize": "Ctrl-I"
   },
   "labels_anchors": false,
   "latex_user_defs": false,
   "report_style_numbering": false,
   "user_envs_cfg": false
  },
  "toc": {
   "nav_menu": {
    "height": "264px",
    "width": "252px"
   },
   "number_sections": true,
   "sideBar": true,
   "skip_h1_title": false,
   "toc_cell": true,
   "toc_position": {},
   "toc_section_display": "block",
   "toc_window_display": false
  },
  "varInspector": {
   "cols": {
    "lenName": 16,
    "lenType": 16,
    "lenVar": 40
   },
   "kernels_config": {
    "python": {
     "delete_cmd_postfix": "",
     "delete_cmd_prefix": "del ",
     "library": "var_list.py",
     "varRefreshCmd": "print(var_dic_list())"
    },
    "r": {
     "delete_cmd_postfix": ") ",
     "delete_cmd_prefix": "rm(",
     "library": "var_list.r",
     "varRefreshCmd": "cat(var_dic_list()) "
    }
   },
   "types_to_exclude": [
    "module",
    "function",
    "builtin_function_or_method",
    "instance",
    "_Feature"
   ],
   "window_display": false
  }
 },
 "nbformat": 4,
 "nbformat_minor": 2
}
